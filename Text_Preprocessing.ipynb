{
  "nbformat": 4,
  "nbformat_minor": 0,
  "metadata": {
    "colab": {
      "name": "Text Preprocessing",
      "provenance": [],
      "authorship_tag": "ABX9TyMtQArEniYv0X7k4qMcgtyw",
      "include_colab_link": true
    },
    "kernelspec": {
      "display_name": "Python 3",
      "name": "python3"
    },
    "language_info": {
      "name": "python"
    }
  },
  "cells": [
    {
      "cell_type": "markdown",
      "metadata": {
        "id": "view-in-github",
        "colab_type": "text"
      },
      "source": [
        "<a href=\"https://colab.research.google.com/github/Akasonal/AffairPredictionDeployment/blob/master/Text_Preprocessing.ipynb\" target=\"_parent\"><img src=\"https://colab.research.google.com/assets/colab-badge.svg\" alt=\"Open In Colab\"/></a>"
      ]
    },
    {
      "cell_type": "code",
      "metadata": {
        "id": "C9XttbLv5P6W"
      },
      "source": [
        "import numpy as np\n",
        "import pandas as pd\n",
        "import seaborn as sns\n",
        "import spacy\n",
        "from spacy.lang.en.stop_words import STOP_WORDS as stopwords\n",
        "import re"
      ],
      "execution_count": 192,
      "outputs": []
    },
    {
      "cell_type": "code",
      "metadata": {
        "colab": {
          "base_uri": "https://localhost:8080/",
          "height": 206
        },
        "id": "5A6bbFcD5ugY",
        "outputId": "baae8a98-c155-4f17-d76d-153f7cc78302"
      },
      "source": [
        "data=pd.read_csv('https://raw.githubusercontent.com/laxmimerit/twitter-data/master/twitter4000.csv')\n",
        "data.head()"
      ],
      "execution_count": 193,
      "outputs": [
        {
          "output_type": "execute_result",
          "data": {
            "text/html": [
              "<div>\n",
              "<style scoped>\n",
              "    .dataframe tbody tr th:only-of-type {\n",
              "        vertical-align: middle;\n",
              "    }\n",
              "\n",
              "    .dataframe tbody tr th {\n",
              "        vertical-align: top;\n",
              "    }\n",
              "\n",
              "    .dataframe thead th {\n",
              "        text-align: right;\n",
              "    }\n",
              "</style>\n",
              "<table border=\"1\" class=\"dataframe\">\n",
              "  <thead>\n",
              "    <tr style=\"text-align: right;\">\n",
              "      <th></th>\n",
              "      <th>twitts</th>\n",
              "      <th>sentiment</th>\n",
              "    </tr>\n",
              "  </thead>\n",
              "  <tbody>\n",
              "    <tr>\n",
              "      <th>0</th>\n",
              "      <td>is bored and wants to watch a movie  any sugge...</td>\n",
              "      <td>0</td>\n",
              "    </tr>\n",
              "    <tr>\n",
              "      <th>1</th>\n",
              "      <td>back in miami.  waiting to unboard ship</td>\n",
              "      <td>0</td>\n",
              "    </tr>\n",
              "    <tr>\n",
              "      <th>2</th>\n",
              "      <td>@misskpey awwww dnt dis brng bak memoriessss, ...</td>\n",
              "      <td>0</td>\n",
              "    </tr>\n",
              "    <tr>\n",
              "      <th>3</th>\n",
              "      <td>ughhh i am so tired  blahhhhhhhhh</td>\n",
              "      <td>0</td>\n",
              "    </tr>\n",
              "    <tr>\n",
              "      <th>4</th>\n",
              "      <td>@mandagoforth me bad! It's funny though. Zacha...</td>\n",
              "      <td>0</td>\n",
              "    </tr>\n",
              "  </tbody>\n",
              "</table>\n",
              "</div>"
            ],
            "text/plain": [
              "                                              twitts  sentiment\n",
              "0  is bored and wants to watch a movie  any sugge...          0\n",
              "1           back in miami.  waiting to unboard ship           0\n",
              "2  @misskpey awwww dnt dis brng bak memoriessss, ...          0\n",
              "3                  ughhh i am so tired  blahhhhhhhhh          0\n",
              "4  @mandagoforth me bad! It's funny though. Zacha...          0"
            ]
          },
          "metadata": {},
          "execution_count": 193
        }
      ]
    },
    {
      "cell_type": "code",
      "metadata": {
        "id": "7yiZg4bN5yM5"
      },
      "source": [
        "data=data.rename(columns={'twitts':'tweets'})"
      ],
      "execution_count": 194,
      "outputs": []
    },
    {
      "cell_type": "code",
      "metadata": {
        "colab": {
          "base_uri": "https://localhost:8080/",
          "height": 206
        },
        "id": "ZKojLx2t6HIe",
        "outputId": "dddbbcd8-a161-490b-ad18-584111bcfadc"
      },
      "source": [
        "data.head()"
      ],
      "execution_count": 195,
      "outputs": [
        {
          "output_type": "execute_result",
          "data": {
            "text/html": [
              "<div>\n",
              "<style scoped>\n",
              "    .dataframe tbody tr th:only-of-type {\n",
              "        vertical-align: middle;\n",
              "    }\n",
              "\n",
              "    .dataframe tbody tr th {\n",
              "        vertical-align: top;\n",
              "    }\n",
              "\n",
              "    .dataframe thead th {\n",
              "        text-align: right;\n",
              "    }\n",
              "</style>\n",
              "<table border=\"1\" class=\"dataframe\">\n",
              "  <thead>\n",
              "    <tr style=\"text-align: right;\">\n",
              "      <th></th>\n",
              "      <th>tweets</th>\n",
              "      <th>sentiment</th>\n",
              "    </tr>\n",
              "  </thead>\n",
              "  <tbody>\n",
              "    <tr>\n",
              "      <th>0</th>\n",
              "      <td>is bored and wants to watch a movie  any sugge...</td>\n",
              "      <td>0</td>\n",
              "    </tr>\n",
              "    <tr>\n",
              "      <th>1</th>\n",
              "      <td>back in miami.  waiting to unboard ship</td>\n",
              "      <td>0</td>\n",
              "    </tr>\n",
              "    <tr>\n",
              "      <th>2</th>\n",
              "      <td>@misskpey awwww dnt dis brng bak memoriessss, ...</td>\n",
              "      <td>0</td>\n",
              "    </tr>\n",
              "    <tr>\n",
              "      <th>3</th>\n",
              "      <td>ughhh i am so tired  blahhhhhhhhh</td>\n",
              "      <td>0</td>\n",
              "    </tr>\n",
              "    <tr>\n",
              "      <th>4</th>\n",
              "      <td>@mandagoforth me bad! It's funny though. Zacha...</td>\n",
              "      <td>0</td>\n",
              "    </tr>\n",
              "  </tbody>\n",
              "</table>\n",
              "</div>"
            ],
            "text/plain": [
              "                                              tweets  sentiment\n",
              "0  is bored and wants to watch a movie  any sugge...          0\n",
              "1           back in miami.  waiting to unboard ship           0\n",
              "2  @misskpey awwww dnt dis brng bak memoriessss, ...          0\n",
              "3                  ughhh i am so tired  blahhhhhhhhh          0\n",
              "4  @mandagoforth me bad! It's funny though. Zacha...          0"
            ]
          },
          "metadata": {},
          "execution_count": 195
        }
      ]
    },
    {
      "cell_type": "code",
      "metadata": {
        "colab": {
          "base_uri": "https://localhost:8080/"
        },
        "id": "rQNYDoEY6IUj",
        "outputId": "0ddef554-3d93-4179-9daf-dd195c2532ef"
      },
      "source": [
        "data['sentiment'].value_counts()"
      ],
      "execution_count": 196,
      "outputs": [
        {
          "output_type": "execute_result",
          "data": {
            "text/plain": [
              "1    2000\n",
              "0    2000\n",
              "Name: sentiment, dtype: int64"
            ]
          },
          "metadata": {},
          "execution_count": 196
        }
      ]
    },
    {
      "cell_type": "markdown",
      "metadata": {
        "id": "Q9AID3pg6UVN"
      },
      "source": [
        "## Word Counts and Char Counts\n",
        "It will give us idea about word and character counts\n"
      ]
    },
    {
      "cell_type": "code",
      "metadata": {
        "colab": {
          "base_uri": "https://localhost:8080/"
        },
        "id": "rgn9V66r6QdH",
        "outputId": "86f54852-f2f3-40fe-f0fc-2c8e5de05e8a"
      },
      "source": [
        "word='Bharati Vidyapeeth university'\n",
        "print(len(word.split()))"
      ],
      "execution_count": 197,
      "outputs": [
        {
          "output_type": "stream",
          "name": "stdout",
          "text": [
            "3\n"
          ]
        }
      ]
    },
    {
      "cell_type": "code",
      "metadata": {
        "id": "bMOsJWie6zP3"
      },
      "source": [
        "def word_count(x):\n",
        "  return len(str(x).split())"
      ],
      "execution_count": 198,
      "outputs": []
    },
    {
      "cell_type": "code",
      "metadata": {
        "id": "TTHxzUZl7PGS"
      },
      "source": [
        "data['word_count']=data['tweets'].apply(word_count)"
      ],
      "execution_count": 199,
      "outputs": []
    },
    {
      "cell_type": "code",
      "metadata": {
        "colab": {
          "base_uri": "https://localhost:8080/",
          "height": 206
        },
        "id": "21NLbgFw7aRt",
        "outputId": "0927cadf-9141-47d2-eee0-75488aebe82c"
      },
      "source": [
        "data.head()"
      ],
      "execution_count": 200,
      "outputs": [
        {
          "output_type": "execute_result",
          "data": {
            "text/html": [
              "<div>\n",
              "<style scoped>\n",
              "    .dataframe tbody tr th:only-of-type {\n",
              "        vertical-align: middle;\n",
              "    }\n",
              "\n",
              "    .dataframe tbody tr th {\n",
              "        vertical-align: top;\n",
              "    }\n",
              "\n",
              "    .dataframe thead th {\n",
              "        text-align: right;\n",
              "    }\n",
              "</style>\n",
              "<table border=\"1\" class=\"dataframe\">\n",
              "  <thead>\n",
              "    <tr style=\"text-align: right;\">\n",
              "      <th></th>\n",
              "      <th>tweets</th>\n",
              "      <th>sentiment</th>\n",
              "      <th>word_count</th>\n",
              "    </tr>\n",
              "  </thead>\n",
              "  <tbody>\n",
              "    <tr>\n",
              "      <th>0</th>\n",
              "      <td>is bored and wants to watch a movie  any sugge...</td>\n",
              "      <td>0</td>\n",
              "      <td>10</td>\n",
              "    </tr>\n",
              "    <tr>\n",
              "      <th>1</th>\n",
              "      <td>back in miami.  waiting to unboard ship</td>\n",
              "      <td>0</td>\n",
              "      <td>7</td>\n",
              "    </tr>\n",
              "    <tr>\n",
              "      <th>2</th>\n",
              "      <td>@misskpey awwww dnt dis brng bak memoriessss, ...</td>\n",
              "      <td>0</td>\n",
              "      <td>12</td>\n",
              "    </tr>\n",
              "    <tr>\n",
              "      <th>3</th>\n",
              "      <td>ughhh i am so tired  blahhhhhhhhh</td>\n",
              "      <td>0</td>\n",
              "      <td>6</td>\n",
              "    </tr>\n",
              "    <tr>\n",
              "      <th>4</th>\n",
              "      <td>@mandagoforth me bad! It's funny though. Zacha...</td>\n",
              "      <td>0</td>\n",
              "      <td>26</td>\n",
              "    </tr>\n",
              "  </tbody>\n",
              "</table>\n",
              "</div>"
            ],
            "text/plain": [
              "                                              tweets  sentiment  word_count\n",
              "0  is bored and wants to watch a movie  any sugge...          0          10\n",
              "1           back in miami.  waiting to unboard ship           0           7\n",
              "2  @misskpey awwww dnt dis brng bak memoriessss, ...          0          12\n",
              "3                  ughhh i am so tired  blahhhhhhhhh          0           6\n",
              "4  @mandagoforth me bad! It's funny though. Zacha...          0          26"
            ]
          },
          "metadata": {},
          "execution_count": 200
        }
      ]
    },
    {
      "cell_type": "code",
      "metadata": {
        "colab": {
          "base_uri": "https://localhost:8080/"
        },
        "id": "enYk7vwm7bq9",
        "outputId": "0af3c54f-2980-4fa7-fd42-f93dc3e85ef9"
      },
      "source": [
        "char='Akhil Anand'\n",
        "char_new=char.split()\n",
        "char_out=''.join(char_new)\n",
        "print(len(char_out))"
      ],
      "execution_count": 201,
      "outputs": [
        {
          "output_type": "stream",
          "name": "stdout",
          "text": [
            "10\n"
          ]
        }
      ]
    },
    {
      "cell_type": "code",
      "metadata": {
        "id": "QDeU2-4q7e7L"
      },
      "source": [
        "def char_count(x):\n",
        "  x_list=x.split()\n",
        "  x_str=''.join(x_list)\n",
        "  char_len=len(str(x_str))\n",
        "  return char_len"
      ],
      "execution_count": 202,
      "outputs": []
    },
    {
      "cell_type": "code",
      "metadata": {
        "id": "zFjEi-tg8Wk1"
      },
      "source": [
        "data['char_count']=data['tweets'].apply(char_count)"
      ],
      "execution_count": 203,
      "outputs": []
    },
    {
      "cell_type": "code",
      "metadata": {
        "colab": {
          "base_uri": "https://localhost:8080/",
          "height": 206
        },
        "id": "Oq2y8M-l8d3c",
        "outputId": "99ef9620-5f36-4654-866e-651580a656ff"
      },
      "source": [
        "data.head()"
      ],
      "execution_count": 204,
      "outputs": [
        {
          "output_type": "execute_result",
          "data": {
            "text/html": [
              "<div>\n",
              "<style scoped>\n",
              "    .dataframe tbody tr th:only-of-type {\n",
              "        vertical-align: middle;\n",
              "    }\n",
              "\n",
              "    .dataframe tbody tr th {\n",
              "        vertical-align: top;\n",
              "    }\n",
              "\n",
              "    .dataframe thead th {\n",
              "        text-align: right;\n",
              "    }\n",
              "</style>\n",
              "<table border=\"1\" class=\"dataframe\">\n",
              "  <thead>\n",
              "    <tr style=\"text-align: right;\">\n",
              "      <th></th>\n",
              "      <th>tweets</th>\n",
              "      <th>sentiment</th>\n",
              "      <th>word_count</th>\n",
              "      <th>char_count</th>\n",
              "    </tr>\n",
              "  </thead>\n",
              "  <tbody>\n",
              "    <tr>\n",
              "      <th>0</th>\n",
              "      <td>is bored and wants to watch a movie  any sugge...</td>\n",
              "      <td>0</td>\n",
              "      <td>10</td>\n",
              "      <td>43</td>\n",
              "    </tr>\n",
              "    <tr>\n",
              "      <th>1</th>\n",
              "      <td>back in miami.  waiting to unboard ship</td>\n",
              "      <td>0</td>\n",
              "      <td>7</td>\n",
              "      <td>32</td>\n",
              "    </tr>\n",
              "    <tr>\n",
              "      <th>2</th>\n",
              "      <td>@misskpey awwww dnt dis brng bak memoriessss, ...</td>\n",
              "      <td>0</td>\n",
              "      <td>12</td>\n",
              "      <td>54</td>\n",
              "    </tr>\n",
              "    <tr>\n",
              "      <th>3</th>\n",
              "      <td>ughhh i am so tired  blahhhhhhhhh</td>\n",
              "      <td>0</td>\n",
              "      <td>6</td>\n",
              "      <td>27</td>\n",
              "    </tr>\n",
              "    <tr>\n",
              "      <th>4</th>\n",
              "      <td>@mandagoforth me bad! It's funny though. Zacha...</td>\n",
              "      <td>0</td>\n",
              "      <td>26</td>\n",
              "      <td>116</td>\n",
              "    </tr>\n",
              "  </tbody>\n",
              "</table>\n",
              "</div>"
            ],
            "text/plain": [
              "                                              tweets  ...  char_count\n",
              "0  is bored and wants to watch a movie  any sugge...  ...          43\n",
              "1           back in miami.  waiting to unboard ship   ...          32\n",
              "2  @misskpey awwww dnt dis brng bak memoriessss, ...  ...          54\n",
              "3                  ughhh i am so tired  blahhhhhhhhh  ...          27\n",
              "4  @mandagoforth me bad! It's funny though. Zacha...  ...         116\n",
              "\n",
              "[5 rows x 4 columns]"
            ]
          },
          "metadata": {},
          "execution_count": 204
        }
      ]
    },
    {
      "cell_type": "code",
      "metadata": {
        "colab": {
          "base_uri": "https://localhost:8080/",
          "height": 423
        },
        "id": "l9Xxx-XB8gow",
        "outputId": "3038815c-65c8-4a68-ef98-a37859c9fc9a"
      },
      "source": [
        "data[data['word_count']==2]"
      ],
      "execution_count": 205,
      "outputs": [
        {
          "output_type": "execute_result",
          "data": {
            "text/html": [
              "<div>\n",
              "<style scoped>\n",
              "    .dataframe tbody tr th:only-of-type {\n",
              "        vertical-align: middle;\n",
              "    }\n",
              "\n",
              "    .dataframe tbody tr th {\n",
              "        vertical-align: top;\n",
              "    }\n",
              "\n",
              "    .dataframe thead th {\n",
              "        text-align: right;\n",
              "    }\n",
              "</style>\n",
              "<table border=\"1\" class=\"dataframe\">\n",
              "  <thead>\n",
              "    <tr style=\"text-align: right;\">\n",
              "      <th></th>\n",
              "      <th>tweets</th>\n",
              "      <th>sentiment</th>\n",
              "      <th>word_count</th>\n",
              "      <th>char_count</th>\n",
              "    </tr>\n",
              "  </thead>\n",
              "  <tbody>\n",
              "    <tr>\n",
              "      <th>55</th>\n",
              "      <td>@haemoglobin_ Why?</td>\n",
              "      <td>0</td>\n",
              "      <td>2</td>\n",
              "      <td>17</td>\n",
              "    </tr>\n",
              "    <tr>\n",
              "      <th>198</th>\n",
              "      <td>is sad</td>\n",
              "      <td>0</td>\n",
              "      <td>2</td>\n",
              "      <td>5</td>\n",
              "    </tr>\n",
              "    <tr>\n",
              "      <th>204</th>\n",
              "      <td>@sross4 why?</td>\n",
              "      <td>0</td>\n",
              "      <td>2</td>\n",
              "      <td>11</td>\n",
              "    </tr>\n",
              "    <tr>\n",
              "      <th>224</th>\n",
              "      <td>at work</td>\n",
              "      <td>0</td>\n",
              "      <td>2</td>\n",
              "      <td>6</td>\n",
              "    </tr>\n",
              "    <tr>\n",
              "      <th>270</th>\n",
              "      <td>@ZenjiHealth Nice</td>\n",
              "      <td>0</td>\n",
              "      <td>2</td>\n",
              "      <td>16</td>\n",
              "    </tr>\n",
              "    <tr>\n",
              "      <th>...</th>\n",
              "      <td>...</td>\n",
              "      <td>...</td>\n",
              "      <td>...</td>\n",
              "      <td>...</td>\n",
              "    </tr>\n",
              "    <tr>\n",
              "      <th>3552</th>\n",
              "      <td>@AmbersAccents hellooooo</td>\n",
              "      <td>1</td>\n",
              "      <td>2</td>\n",
              "      <td>23</td>\n",
              "    </tr>\n",
              "    <tr>\n",
              "      <th>3612</th>\n",
              "      <td>playing facebook</td>\n",
              "      <td>1</td>\n",
              "      <td>2</td>\n",
              "      <td>15</td>\n",
              "    </tr>\n",
              "    <tr>\n",
              "      <th>3712</th>\n",
              "      <td>eating chocolates</td>\n",
              "      <td>1</td>\n",
              "      <td>2</td>\n",
              "      <td>16</td>\n",
              "    </tr>\n",
              "    <tr>\n",
              "      <th>3743</th>\n",
              "      <td>Pip-pip-doodly-do laddy</td>\n",
              "      <td>1</td>\n",
              "      <td>2</td>\n",
              "      <td>22</td>\n",
              "    </tr>\n",
              "    <tr>\n",
              "      <th>3898</th>\n",
              "      <td>@dzakyem thanks</td>\n",
              "      <td>1</td>\n",
              "      <td>2</td>\n",
              "      <td>14</td>\n",
              "    </tr>\n",
              "  </tbody>\n",
              "</table>\n",
              "<p>71 rows × 4 columns</p>\n",
              "</div>"
            ],
            "text/plain": [
              "                         tweets  sentiment  word_count  char_count\n",
              "55          @haemoglobin_ Why?           0           2          17\n",
              "198                     is sad           0           2           5\n",
              "204               @sross4 why?           0           2          11\n",
              "224                    at work           0           2           6\n",
              "270          @ZenjiHealth Nice           0           2          16\n",
              "...                         ...        ...         ...         ...\n",
              "3552  @AmbersAccents hellooooo           1           2          23\n",
              "3612          playing facebook           1           2          15\n",
              "3712         eating chocolates           1           2          16\n",
              "3743   Pip-pip-doodly-do laddy           1           2          22\n",
              "3898           @dzakyem thanks           1           2          14\n",
              "\n",
              "[71 rows x 4 columns]"
            ]
          },
          "metadata": {},
          "execution_count": 205
        }
      ]
    },
    {
      "cell_type": "markdown",
      "metadata": {
        "id": "-wMI0sgp9Ypg"
      },
      "source": [
        "## Average word count"
      ]
    },
    {
      "cell_type": "code",
      "metadata": {
        "id": "YR1DodD481iS"
      },
      "source": [
        "def avg_word_count(x):\n",
        "  avg_count=char_count(x)/word_count(x)\n",
        "  return avg_count"
      ],
      "execution_count": 206,
      "outputs": []
    },
    {
      "cell_type": "code",
      "metadata": {
        "id": "wCVaD8uQ-Vel"
      },
      "source": [
        "data['avg_word_count']=data['tweets'].apply(avg_word_count)"
      ],
      "execution_count": 207,
      "outputs": []
    },
    {
      "cell_type": "code",
      "metadata": {
        "colab": {
          "base_uri": "https://localhost:8080/",
          "height": 206
        },
        "id": "9il4kP8k-ekv",
        "outputId": "9d27f7c8-c3ca-4306-d4cf-ebf89c3cdc78"
      },
      "source": [
        "data.head()"
      ],
      "execution_count": 208,
      "outputs": [
        {
          "output_type": "execute_result",
          "data": {
            "text/html": [
              "<div>\n",
              "<style scoped>\n",
              "    .dataframe tbody tr th:only-of-type {\n",
              "        vertical-align: middle;\n",
              "    }\n",
              "\n",
              "    .dataframe tbody tr th {\n",
              "        vertical-align: top;\n",
              "    }\n",
              "\n",
              "    .dataframe thead th {\n",
              "        text-align: right;\n",
              "    }\n",
              "</style>\n",
              "<table border=\"1\" class=\"dataframe\">\n",
              "  <thead>\n",
              "    <tr style=\"text-align: right;\">\n",
              "      <th></th>\n",
              "      <th>tweets</th>\n",
              "      <th>sentiment</th>\n",
              "      <th>word_count</th>\n",
              "      <th>char_count</th>\n",
              "      <th>avg_word_count</th>\n",
              "    </tr>\n",
              "  </thead>\n",
              "  <tbody>\n",
              "    <tr>\n",
              "      <th>0</th>\n",
              "      <td>is bored and wants to watch a movie  any sugge...</td>\n",
              "      <td>0</td>\n",
              "      <td>10</td>\n",
              "      <td>43</td>\n",
              "      <td>4.300000</td>\n",
              "    </tr>\n",
              "    <tr>\n",
              "      <th>1</th>\n",
              "      <td>back in miami.  waiting to unboard ship</td>\n",
              "      <td>0</td>\n",
              "      <td>7</td>\n",
              "      <td>32</td>\n",
              "      <td>4.571429</td>\n",
              "    </tr>\n",
              "    <tr>\n",
              "      <th>2</th>\n",
              "      <td>@misskpey awwww dnt dis brng bak memoriessss, ...</td>\n",
              "      <td>0</td>\n",
              "      <td>12</td>\n",
              "      <td>54</td>\n",
              "      <td>4.500000</td>\n",
              "    </tr>\n",
              "    <tr>\n",
              "      <th>3</th>\n",
              "      <td>ughhh i am so tired  blahhhhhhhhh</td>\n",
              "      <td>0</td>\n",
              "      <td>6</td>\n",
              "      <td>27</td>\n",
              "      <td>4.500000</td>\n",
              "    </tr>\n",
              "    <tr>\n",
              "      <th>4</th>\n",
              "      <td>@mandagoforth me bad! It's funny though. Zacha...</td>\n",
              "      <td>0</td>\n",
              "      <td>26</td>\n",
              "      <td>116</td>\n",
              "      <td>4.461538</td>\n",
              "    </tr>\n",
              "  </tbody>\n",
              "</table>\n",
              "</div>"
            ],
            "text/plain": [
              "                                              tweets  ...  avg_word_count\n",
              "0  is bored and wants to watch a movie  any sugge...  ...        4.300000\n",
              "1           back in miami.  waiting to unboard ship   ...        4.571429\n",
              "2  @misskpey awwww dnt dis brng bak memoriessss, ...  ...        4.500000\n",
              "3                  ughhh i am so tired  blahhhhhhhhh  ...        4.500000\n",
              "4  @mandagoforth me bad! It's funny though. Zacha...  ...        4.461538\n",
              "\n",
              "[5 rows x 5 columns]"
            ]
          },
          "metadata": {},
          "execution_count": 208
        }
      ]
    },
    {
      "cell_type": "code",
      "metadata": {
        "colab": {
          "base_uri": "https://localhost:8080/"
        },
        "id": "ZPjNMlkp-stT",
        "outputId": "3ef9b0a8-f1ea-4713-d6ea-613a026d91ca"
      },
      "source": [
        "stop_words=set(stopwords)\n",
        "print(stop_words)"
      ],
      "execution_count": 209,
      "outputs": [
        {
          "output_type": "stream",
          "name": "stdout",
          "text": [
            "{'wherever', 'top', 'front', 'five', 'thereby', 'they', 'was', 'thru', 'out', 'this', 'next', 'off', 'side', 'eleven', 'besides', 'former', '’m', 'nobody', 'everywhere', 'either', 'hereupon', 'moreover', 'twenty', 'we', 'few', 'fifty', 'without', 'noone', 'yet', 'namely', 'since', '‘ll', 'would', 'own', 'four', 'though', 'cannot', 'any', 'take', 'mostly', 'very', 'becoming', 'than', 'your', 'of', 'alone', 'had', 'latterly', 'us', 'serious', 'under', 'regarding', 'who', 'between', 'sometimes', 'whole', 'say', 'others', 'almost', 'several', 'everything', 'somewhere', '‘d', 'whatever', 'which', 'once', 'an', 'both', 'could', 'more', 'less', '’re', 'beyond', 'me', 'that', 'show', 'being', 'except', \"'s\", 'thereafter', 'see', 'anyway', 'two', 'yourselves', 'thus', 'and', 'rather', 'here', 'elsewhere', 'further', 'has', 'below', 'most', 're', 'another', 'him', 'during', 'her', 'can', 'much', 'someone', 'what', 'he', 'whose', 'whereas', '’d', 'whence', 'himself', 'does', 'whereby', 'there', 'towards', 'the', 'onto', 'everyone', 'keep', 'its', 'behind', 'neither', 'always', 'for', 'must', 'above', \"'re\", 'where', 'please', '‘s', \"'d\", 'yours', 'themselves', 'i', 'such', 'after', 'really', 'while', 'whether', 'been', \"'ll\", 'across', 'but', 'go', 'due', 'toward', 'until', 'back', 'a', 'even', 'am', 'not', 'it', 'other', 'therein', 'when', 'so', 'with', 'those', 'doing', 'part', 'are', 'about', 'bottom', 'over', '‘re', 'else', 'did', 'our', 'indeed', 'nevertheless', 'therefore', 'same', \"n't\", 'seemed', 'meanwhile', 'third', 'then', 'seems', 'three', 'should', 'down', 'although', 'amongst', 'nowhere', 'every', '‘ve', 'first', 'seem', 'from', 'have', 'eight', 'many', 'ours', 'itself', 'fifteen', 'wherein', 'if', 'because', 'whom', 'against', 'before', 'one', 'ca', 'or', 'n‘t', 'hereafter', 'how', 'is', 'too', 'already', 'becomes', \"'ve\", 'do', '’ll', 'again', 'otherwise', 'as', 'whoever', 'herein', 'least', 'thence', 'using', 'to', 'various', 'empty', 'hereby', 'in', 'only', 'unless', 'all', 'formerly', 'whereafter', '’s', 'be', 'up', 'these', 'still', 'whenever', 'none', 'somehow', 'anyhow', 'enough', 'at', 'no', 'through', 'last', 'now', 'used', 'anywhere', 'forty', 'myself', 'ourselves', 'into', 'you', 'yourself', 'she', 'seeming', 'why', 'however', 'might', 'never', 'made', '‘m', 'whither', 'around', 'some', 'done', 'move', 'just', 'quite', 'twelve', 'became', 'within', 'perhaps', 'them', '’ve', 'latter', 'each', 'amount', 'his', 'on', 'hence', 'call', 'their', 'afterwards', 'per', 'herself', 'give', 'nothing', 'throughout', 'something', 'upon', 'along', 'six', 'together', 'may', 'among', 'hers', 'mine', 'my', 'were', 'anything', 'anyone', 'make', 'ever', \"'m\", 'sixty', 'name', 'sometime', 'ten', 'whereupon', 'full', 'nine', 'by', 'beside', 'become', 'beforehand', 'nor', 'also', 'get', 'well', 'hundred', 'will', 'via', 'thereupon', 'often', 'n’t', 'put'}\n"
          ]
        }
      ]
    },
    {
      "cell_type": "code",
      "metadata": {
        "id": "9Q7vf1HW__t6"
      },
      "source": [
        "intro='This is akhil anand'\n",
        "stop_words=[word for word in stop_words if word in intro.split()]"
      ],
      "execution_count": 210,
      "outputs": []
    },
    {
      "cell_type": "code",
      "metadata": {
        "colab": {
          "base_uri": "https://localhost:8080/"
        },
        "id": "HsADySShAxQX",
        "outputId": "5c1ab68b-6f1e-4483-b651-462ed5467b67"
      },
      "source": [
        "stop_words"
      ],
      "execution_count": 211,
      "outputs": [
        {
          "output_type": "execute_result",
          "data": {
            "text/plain": [
              "['is']"
            ]
          },
          "metadata": {},
          "execution_count": 211
        }
      ]
    },
    {
      "cell_type": "code",
      "metadata": {
        "id": "dkMYFsqVAy4f"
      },
      "source": [
        "def stop_word_count(x):\n",
        "  x_stop_word=[word for word in stopwords if word in str(x).split()]\n",
        "  return len(x_stop_word)"
      ],
      "execution_count": 212,
      "outputs": []
    },
    {
      "cell_type": "code",
      "metadata": {
        "id": "4I_tmqLLBMkN"
      },
      "source": [
        "data['stop_word_count']=data['tweets'].apply(stop_word_count)"
      ],
      "execution_count": 213,
      "outputs": []
    },
    {
      "cell_type": "code",
      "metadata": {
        "colab": {
          "base_uri": "https://localhost:8080/",
          "height": 206
        },
        "id": "TrW5Vb4sBUPu",
        "outputId": "457a9920-38a1-499f-bd90-282d61b39f7d"
      },
      "source": [
        "data.head()"
      ],
      "execution_count": 214,
      "outputs": [
        {
          "output_type": "execute_result",
          "data": {
            "text/html": [
              "<div>\n",
              "<style scoped>\n",
              "    .dataframe tbody tr th:only-of-type {\n",
              "        vertical-align: middle;\n",
              "    }\n",
              "\n",
              "    .dataframe tbody tr th {\n",
              "        vertical-align: top;\n",
              "    }\n",
              "\n",
              "    .dataframe thead th {\n",
              "        text-align: right;\n",
              "    }\n",
              "</style>\n",
              "<table border=\"1\" class=\"dataframe\">\n",
              "  <thead>\n",
              "    <tr style=\"text-align: right;\">\n",
              "      <th></th>\n",
              "      <th>tweets</th>\n",
              "      <th>sentiment</th>\n",
              "      <th>word_count</th>\n",
              "      <th>char_count</th>\n",
              "      <th>avg_word_count</th>\n",
              "      <th>stop_word_count</th>\n",
              "    </tr>\n",
              "  </thead>\n",
              "  <tbody>\n",
              "    <tr>\n",
              "      <th>0</th>\n",
              "      <td>is bored and wants to watch a movie  any sugge...</td>\n",
              "      <td>0</td>\n",
              "      <td>10</td>\n",
              "      <td>43</td>\n",
              "      <td>4.300000</td>\n",
              "      <td>5</td>\n",
              "    </tr>\n",
              "    <tr>\n",
              "      <th>1</th>\n",
              "      <td>back in miami.  waiting to unboard ship</td>\n",
              "      <td>0</td>\n",
              "      <td>7</td>\n",
              "      <td>32</td>\n",
              "      <td>4.571429</td>\n",
              "      <td>3</td>\n",
              "    </tr>\n",
              "    <tr>\n",
              "      <th>2</th>\n",
              "      <td>@misskpey awwww dnt dis brng bak memoriessss, ...</td>\n",
              "      <td>0</td>\n",
              "      <td>12</td>\n",
              "      <td>54</td>\n",
              "      <td>4.500000</td>\n",
              "      <td>0</td>\n",
              "    </tr>\n",
              "    <tr>\n",
              "      <th>3</th>\n",
              "      <td>ughhh i am so tired  blahhhhhhhhh</td>\n",
              "      <td>0</td>\n",
              "      <td>6</td>\n",
              "      <td>27</td>\n",
              "      <td>4.500000</td>\n",
              "      <td>3</td>\n",
              "    </tr>\n",
              "    <tr>\n",
              "      <th>4</th>\n",
              "      <td>@mandagoforth me bad! It's funny though. Zacha...</td>\n",
              "      <td>0</td>\n",
              "      <td>26</td>\n",
              "      <td>116</td>\n",
              "      <td>4.461538</td>\n",
              "      <td>12</td>\n",
              "    </tr>\n",
              "  </tbody>\n",
              "</table>\n",
              "</div>"
            ],
            "text/plain": [
              "                                              tweets  ...  stop_word_count\n",
              "0  is bored and wants to watch a movie  any sugge...  ...                5\n",
              "1           back in miami.  waiting to unboard ship   ...                3\n",
              "2  @misskpey awwww dnt dis brng bak memoriessss, ...  ...                0\n",
              "3                  ughhh i am so tired  blahhhhhhhhh  ...                3\n",
              "4  @mandagoforth me bad! It's funny though. Zacha...  ...               12\n",
              "\n",
              "[5 rows x 6 columns]"
            ]
          },
          "metadata": {},
          "execution_count": 214
        }
      ]
    },
    {
      "cell_type": "code",
      "metadata": {
        "colab": {
          "base_uri": "https://localhost:8080/"
        },
        "id": "Jp9j78X0BVas",
        "outputId": "453a7aa6-d39a-4dd3-e836-8b55a8ab7334"
      },
      "source": [
        "new_var='# Akhil Anand @akhilanand'\n",
        "list_var=new_var.split()\n",
        "list_var"
      ],
      "execution_count": 215,
      "outputs": [
        {
          "output_type": "execute_result",
          "data": {
            "text/plain": [
              "['#', 'Akhil', 'Anand', '@akhilanand']"
            ]
          },
          "metadata": {},
          "execution_count": 215
        }
      ]
    },
    {
      "cell_type": "code",
      "metadata": {
        "colab": {
          "base_uri": "https://localhost:8080/"
        },
        "id": "YP8dgo07B_Vu",
        "outputId": "e712d9f9-ad41-4e3a-eaa9-e6933ebf39df"
      },
      "source": [
        "print(len([i for i in list_var if i.startswith('#')]))\n"
      ],
      "execution_count": 216,
      "outputs": [
        {
          "output_type": "stream",
          "name": "stdout",
          "text": [
            "1\n"
          ]
        }
      ]
    },
    {
      "cell_type": "code",
      "metadata": {
        "id": "mVquUTYqCwfR"
      },
      "source": [
        "def hashtag_count(x):\n",
        "  x_list=str(x).split()\n",
        "  x_word=[word for word in x_list if word.startswith('#')]\n",
        "  return len(x_word)"
      ],
      "execution_count": 217,
      "outputs": []
    },
    {
      "cell_type": "code",
      "metadata": {
        "id": "lzu_77SFDKjv"
      },
      "source": [
        "data['hashtag_count']=data['tweets'].apply(hashtag_count)"
      ],
      "execution_count": 218,
      "outputs": []
    },
    {
      "cell_type": "code",
      "metadata": {
        "colab": {
          "base_uri": "https://localhost:8080/",
          "height": 206
        },
        "id": "MtvLyCfXDSUe",
        "outputId": "29a02fba-ec5f-4c26-d271-6f4e69105b5f"
      },
      "source": [
        "data.head()"
      ],
      "execution_count": 219,
      "outputs": [
        {
          "output_type": "execute_result",
          "data": {
            "text/html": [
              "<div>\n",
              "<style scoped>\n",
              "    .dataframe tbody tr th:only-of-type {\n",
              "        vertical-align: middle;\n",
              "    }\n",
              "\n",
              "    .dataframe tbody tr th {\n",
              "        vertical-align: top;\n",
              "    }\n",
              "\n",
              "    .dataframe thead th {\n",
              "        text-align: right;\n",
              "    }\n",
              "</style>\n",
              "<table border=\"1\" class=\"dataframe\">\n",
              "  <thead>\n",
              "    <tr style=\"text-align: right;\">\n",
              "      <th></th>\n",
              "      <th>tweets</th>\n",
              "      <th>sentiment</th>\n",
              "      <th>word_count</th>\n",
              "      <th>char_count</th>\n",
              "      <th>avg_word_count</th>\n",
              "      <th>stop_word_count</th>\n",
              "      <th>hashtag_count</th>\n",
              "    </tr>\n",
              "  </thead>\n",
              "  <tbody>\n",
              "    <tr>\n",
              "      <th>0</th>\n",
              "      <td>is bored and wants to watch a movie  any sugge...</td>\n",
              "      <td>0</td>\n",
              "      <td>10</td>\n",
              "      <td>43</td>\n",
              "      <td>4.300000</td>\n",
              "      <td>5</td>\n",
              "      <td>0</td>\n",
              "    </tr>\n",
              "    <tr>\n",
              "      <th>1</th>\n",
              "      <td>back in miami.  waiting to unboard ship</td>\n",
              "      <td>0</td>\n",
              "      <td>7</td>\n",
              "      <td>32</td>\n",
              "      <td>4.571429</td>\n",
              "      <td>3</td>\n",
              "      <td>0</td>\n",
              "    </tr>\n",
              "    <tr>\n",
              "      <th>2</th>\n",
              "      <td>@misskpey awwww dnt dis brng bak memoriessss, ...</td>\n",
              "      <td>0</td>\n",
              "      <td>12</td>\n",
              "      <td>54</td>\n",
              "      <td>4.500000</td>\n",
              "      <td>0</td>\n",
              "      <td>0</td>\n",
              "    </tr>\n",
              "    <tr>\n",
              "      <th>3</th>\n",
              "      <td>ughhh i am so tired  blahhhhhhhhh</td>\n",
              "      <td>0</td>\n",
              "      <td>6</td>\n",
              "      <td>27</td>\n",
              "      <td>4.500000</td>\n",
              "      <td>3</td>\n",
              "      <td>0</td>\n",
              "    </tr>\n",
              "    <tr>\n",
              "      <th>4</th>\n",
              "      <td>@mandagoforth me bad! It's funny though. Zacha...</td>\n",
              "      <td>0</td>\n",
              "      <td>26</td>\n",
              "      <td>116</td>\n",
              "      <td>4.461538</td>\n",
              "      <td>12</td>\n",
              "      <td>0</td>\n",
              "    </tr>\n",
              "  </tbody>\n",
              "</table>\n",
              "</div>"
            ],
            "text/plain": [
              "                                              tweets  ...  hashtag_count\n",
              "0  is bored and wants to watch a movie  any sugge...  ...              0\n",
              "1           back in miami.  waiting to unboard ship   ...              0\n",
              "2  @misskpey awwww dnt dis brng bak memoriessss, ...  ...              0\n",
              "3                  ughhh i am so tired  blahhhhhhhhh  ...              0\n",
              "4  @mandagoforth me bad! It's funny though. Zacha...  ...              0\n",
              "\n",
              "[5 rows x 7 columns]"
            ]
          },
          "metadata": {},
          "execution_count": 219
        }
      ]
    },
    {
      "cell_type": "code",
      "metadata": {
        "id": "08bnliTGDYhO"
      },
      "source": [
        "def mention_count(x):\n",
        "  x_list=str(x).split()\n",
        "  x_word=[word for word in x_list if word.startswith('@')]\n",
        "  return len(x_word)"
      ],
      "execution_count": 220,
      "outputs": []
    },
    {
      "cell_type": "code",
      "metadata": {
        "id": "quuuD6uTDi07"
      },
      "source": [
        "data['mention_count']=data['tweets'].apply(mention_count)"
      ],
      "execution_count": 221,
      "outputs": []
    },
    {
      "cell_type": "code",
      "metadata": {
        "colab": {
          "base_uri": "https://localhost:8080/",
          "height": 206
        },
        "id": "ORUhvGVNDnxy",
        "outputId": "0c86bafc-7756-4ddb-9ba7-653ef3626cf8"
      },
      "source": [
        "data.head()"
      ],
      "execution_count": 222,
      "outputs": [
        {
          "output_type": "execute_result",
          "data": {
            "text/html": [
              "<div>\n",
              "<style scoped>\n",
              "    .dataframe tbody tr th:only-of-type {\n",
              "        vertical-align: middle;\n",
              "    }\n",
              "\n",
              "    .dataframe tbody tr th {\n",
              "        vertical-align: top;\n",
              "    }\n",
              "\n",
              "    .dataframe thead th {\n",
              "        text-align: right;\n",
              "    }\n",
              "</style>\n",
              "<table border=\"1\" class=\"dataframe\">\n",
              "  <thead>\n",
              "    <tr style=\"text-align: right;\">\n",
              "      <th></th>\n",
              "      <th>tweets</th>\n",
              "      <th>sentiment</th>\n",
              "      <th>word_count</th>\n",
              "      <th>char_count</th>\n",
              "      <th>avg_word_count</th>\n",
              "      <th>stop_word_count</th>\n",
              "      <th>hashtag_count</th>\n",
              "      <th>mention_count</th>\n",
              "    </tr>\n",
              "  </thead>\n",
              "  <tbody>\n",
              "    <tr>\n",
              "      <th>0</th>\n",
              "      <td>is bored and wants to watch a movie  any sugge...</td>\n",
              "      <td>0</td>\n",
              "      <td>10</td>\n",
              "      <td>43</td>\n",
              "      <td>4.300000</td>\n",
              "      <td>5</td>\n",
              "      <td>0</td>\n",
              "      <td>0</td>\n",
              "    </tr>\n",
              "    <tr>\n",
              "      <th>1</th>\n",
              "      <td>back in miami.  waiting to unboard ship</td>\n",
              "      <td>0</td>\n",
              "      <td>7</td>\n",
              "      <td>32</td>\n",
              "      <td>4.571429</td>\n",
              "      <td>3</td>\n",
              "      <td>0</td>\n",
              "      <td>0</td>\n",
              "    </tr>\n",
              "    <tr>\n",
              "      <th>2</th>\n",
              "      <td>@misskpey awwww dnt dis brng bak memoriessss, ...</td>\n",
              "      <td>0</td>\n",
              "      <td>12</td>\n",
              "      <td>54</td>\n",
              "      <td>4.500000</td>\n",
              "      <td>0</td>\n",
              "      <td>0</td>\n",
              "      <td>1</td>\n",
              "    </tr>\n",
              "    <tr>\n",
              "      <th>3</th>\n",
              "      <td>ughhh i am so tired  blahhhhhhhhh</td>\n",
              "      <td>0</td>\n",
              "      <td>6</td>\n",
              "      <td>27</td>\n",
              "      <td>4.500000</td>\n",
              "      <td>3</td>\n",
              "      <td>0</td>\n",
              "      <td>0</td>\n",
              "    </tr>\n",
              "    <tr>\n",
              "      <th>4</th>\n",
              "      <td>@mandagoforth me bad! It's funny though. Zacha...</td>\n",
              "      <td>0</td>\n",
              "      <td>26</td>\n",
              "      <td>116</td>\n",
              "      <td>4.461538</td>\n",
              "      <td>12</td>\n",
              "      <td>0</td>\n",
              "      <td>2</td>\n",
              "    </tr>\n",
              "  </tbody>\n",
              "</table>\n",
              "</div>"
            ],
            "text/plain": [
              "                                              tweets  ...  mention_count\n",
              "0  is bored and wants to watch a movie  any sugge...  ...              0\n",
              "1           back in miami.  waiting to unboard ship   ...              0\n",
              "2  @misskpey awwww dnt dis brng bak memoriessss, ...  ...              1\n",
              "3                  ughhh i am so tired  blahhhhhhhhh  ...              0\n",
              "4  @mandagoforth me bad! It's funny though. Zacha...  ...              2\n",
              "\n",
              "[5 rows x 8 columns]"
            ]
          },
          "metadata": {},
          "execution_count": 222
        }
      ]
    },
    {
      "cell_type": "markdown",
      "metadata": {
        "id": "oBy9XcXiDwse"
      },
      "source": [
        "## Numeric digit count"
      ]
    },
    {
      "cell_type": "code",
      "metadata": {
        "colab": {
          "base_uri": "https://localhost:8080/"
        },
        "id": "8UJixmeIDpBs",
        "outputId": "7ea3d1ae-95b6-4219-f94b-dd2e0f24820d"
      },
      "source": [
        "a='one 1 two 2 three 3 four 4'\n",
        "print([i for i in a.split() if i.isdigit()])"
      ],
      "execution_count": 223,
      "outputs": [
        {
          "output_type": "stream",
          "name": "stdout",
          "text": [
            "['1', '2', '3', '4']\n"
          ]
        }
      ]
    },
    {
      "cell_type": "code",
      "metadata": {
        "id": "NGuRmS_5D_2v"
      },
      "source": [
        "def numeric_digit_count(x):\n",
        "  x_list=x.split()\n",
        "  x_digit=[word for word in x_list if word.isdigit()]\n",
        "  return len(x_digit)"
      ],
      "execution_count": 224,
      "outputs": []
    },
    {
      "cell_type": "code",
      "metadata": {
        "id": "kzGX89dYEVFD"
      },
      "source": [
        "data['numeric_digit_count']=data['tweets'].apply(numeric_digit_count)"
      ],
      "execution_count": 225,
      "outputs": []
    },
    {
      "cell_type": "code",
      "metadata": {
        "colab": {
          "base_uri": "https://localhost:8080/",
          "height": 275
        },
        "id": "4PTdNXdjEdau",
        "outputId": "2c8bdd8f-855b-4d2a-a40f-ceae96241de5"
      },
      "source": [
        "data.head()"
      ],
      "execution_count": 226,
      "outputs": [
        {
          "output_type": "execute_result",
          "data": {
            "text/html": [
              "<div>\n",
              "<style scoped>\n",
              "    .dataframe tbody tr th:only-of-type {\n",
              "        vertical-align: middle;\n",
              "    }\n",
              "\n",
              "    .dataframe tbody tr th {\n",
              "        vertical-align: top;\n",
              "    }\n",
              "\n",
              "    .dataframe thead th {\n",
              "        text-align: right;\n",
              "    }\n",
              "</style>\n",
              "<table border=\"1\" class=\"dataframe\">\n",
              "  <thead>\n",
              "    <tr style=\"text-align: right;\">\n",
              "      <th></th>\n",
              "      <th>tweets</th>\n",
              "      <th>sentiment</th>\n",
              "      <th>word_count</th>\n",
              "      <th>char_count</th>\n",
              "      <th>avg_word_count</th>\n",
              "      <th>stop_word_count</th>\n",
              "      <th>hashtag_count</th>\n",
              "      <th>mention_count</th>\n",
              "      <th>numeric_digit_count</th>\n",
              "    </tr>\n",
              "  </thead>\n",
              "  <tbody>\n",
              "    <tr>\n",
              "      <th>0</th>\n",
              "      <td>is bored and wants to watch a movie  any sugge...</td>\n",
              "      <td>0</td>\n",
              "      <td>10</td>\n",
              "      <td>43</td>\n",
              "      <td>4.300000</td>\n",
              "      <td>5</td>\n",
              "      <td>0</td>\n",
              "      <td>0</td>\n",
              "      <td>0</td>\n",
              "    </tr>\n",
              "    <tr>\n",
              "      <th>1</th>\n",
              "      <td>back in miami.  waiting to unboard ship</td>\n",
              "      <td>0</td>\n",
              "      <td>7</td>\n",
              "      <td>32</td>\n",
              "      <td>4.571429</td>\n",
              "      <td>3</td>\n",
              "      <td>0</td>\n",
              "      <td>0</td>\n",
              "      <td>0</td>\n",
              "    </tr>\n",
              "    <tr>\n",
              "      <th>2</th>\n",
              "      <td>@misskpey awwww dnt dis brng bak memoriessss, ...</td>\n",
              "      <td>0</td>\n",
              "      <td>12</td>\n",
              "      <td>54</td>\n",
              "      <td>4.500000</td>\n",
              "      <td>0</td>\n",
              "      <td>0</td>\n",
              "      <td>1</td>\n",
              "      <td>0</td>\n",
              "    </tr>\n",
              "    <tr>\n",
              "      <th>3</th>\n",
              "      <td>ughhh i am so tired  blahhhhhhhhh</td>\n",
              "      <td>0</td>\n",
              "      <td>6</td>\n",
              "      <td>27</td>\n",
              "      <td>4.500000</td>\n",
              "      <td>3</td>\n",
              "      <td>0</td>\n",
              "      <td>0</td>\n",
              "      <td>0</td>\n",
              "    </tr>\n",
              "    <tr>\n",
              "      <th>4</th>\n",
              "      <td>@mandagoforth me bad! It's funny though. Zacha...</td>\n",
              "      <td>0</td>\n",
              "      <td>26</td>\n",
              "      <td>116</td>\n",
              "      <td>4.461538</td>\n",
              "      <td>12</td>\n",
              "      <td>0</td>\n",
              "      <td>2</td>\n",
              "      <td>0</td>\n",
              "    </tr>\n",
              "  </tbody>\n",
              "</table>\n",
              "</div>"
            ],
            "text/plain": [
              "                                              tweets  ...  numeric_digit_count\n",
              "0  is bored and wants to watch a movie  any sugge...  ...                    0\n",
              "1           back in miami.  waiting to unboard ship   ...                    0\n",
              "2  @misskpey awwww dnt dis brng bak memoriessss, ...  ...                    0\n",
              "3                  ughhh i am so tired  blahhhhhhhhh  ...                    0\n",
              "4  @mandagoforth me bad! It's funny though. Zacha...  ...                    0\n",
              "\n",
              "[5 rows x 9 columns]"
            ]
          },
          "metadata": {},
          "execution_count": 226
        }
      ]
    },
    {
      "cell_type": "markdown",
      "metadata": {
        "id": "fZpzytZPEnsu"
      },
      "source": [
        "## Upper case count\n"
      ]
    },
    {
      "cell_type": "code",
      "metadata": {
        "colab": {
          "base_uri": "https://localhost:8080/"
        },
        "id": "sNUT3qkqEhj8",
        "outputId": "61b95464-ba34-48c7-b315-5f66acd680bf"
      },
      "source": [
        "b='I Akhil Anand one two three four'\n",
        "print([i for i in b.split() if i.isupper()])"
      ],
      "execution_count": 227,
      "outputs": [
        {
          "output_type": "stream",
          "name": "stdout",
          "text": [
            "['I']\n"
          ]
        }
      ]
    },
    {
      "cell_type": "code",
      "metadata": {
        "id": "bU89o2jyEzG1"
      },
      "source": [
        "def upper_case_count(x):\n",
        "  x_list=str(x).split()\n",
        "  x_word=[word for word in x_list if word.isupper()]\n",
        "  return len(x_word)"
      ],
      "execution_count": 228,
      "outputs": []
    },
    {
      "cell_type": "code",
      "metadata": {
        "id": "jFnZ15gOGC8y"
      },
      "source": [
        "data['upper_case_count']=data['tweets'].apply(upper_case_count)"
      ],
      "execution_count": 229,
      "outputs": []
    },
    {
      "cell_type": "code",
      "metadata": {
        "colab": {
          "base_uri": "https://localhost:8080/",
          "height": 469
        },
        "id": "ytg9KQOdGP8l",
        "outputId": "4b49c03f-9681-4677-b788-d8c7a52c66bb"
      },
      "source": [
        "data.head()"
      ],
      "execution_count": 230,
      "outputs": [
        {
          "output_type": "execute_result",
          "data": {
            "text/html": [
              "<div>\n",
              "<style scoped>\n",
              "    .dataframe tbody tr th:only-of-type {\n",
              "        vertical-align: middle;\n",
              "    }\n",
              "\n",
              "    .dataframe tbody tr th {\n",
              "        vertical-align: top;\n",
              "    }\n",
              "\n",
              "    .dataframe thead th {\n",
              "        text-align: right;\n",
              "    }\n",
              "</style>\n",
              "<table border=\"1\" class=\"dataframe\">\n",
              "  <thead>\n",
              "    <tr style=\"text-align: right;\">\n",
              "      <th></th>\n",
              "      <th>tweets</th>\n",
              "      <th>sentiment</th>\n",
              "      <th>word_count</th>\n",
              "      <th>char_count</th>\n",
              "      <th>avg_word_count</th>\n",
              "      <th>stop_word_count</th>\n",
              "      <th>hashtag_count</th>\n",
              "      <th>mention_count</th>\n",
              "      <th>numeric_digit_count</th>\n",
              "      <th>upper_case_count</th>\n",
              "    </tr>\n",
              "  </thead>\n",
              "  <tbody>\n",
              "    <tr>\n",
              "      <th>0</th>\n",
              "      <td>is bored and wants to watch a movie  any sugge...</td>\n",
              "      <td>0</td>\n",
              "      <td>10</td>\n",
              "      <td>43</td>\n",
              "      <td>4.300000</td>\n",
              "      <td>5</td>\n",
              "      <td>0</td>\n",
              "      <td>0</td>\n",
              "      <td>0</td>\n",
              "      <td>0</td>\n",
              "    </tr>\n",
              "    <tr>\n",
              "      <th>1</th>\n",
              "      <td>back in miami.  waiting to unboard ship</td>\n",
              "      <td>0</td>\n",
              "      <td>7</td>\n",
              "      <td>32</td>\n",
              "      <td>4.571429</td>\n",
              "      <td>3</td>\n",
              "      <td>0</td>\n",
              "      <td>0</td>\n",
              "      <td>0</td>\n",
              "      <td>0</td>\n",
              "    </tr>\n",
              "    <tr>\n",
              "      <th>2</th>\n",
              "      <td>@misskpey awwww dnt dis brng bak memoriessss, ...</td>\n",
              "      <td>0</td>\n",
              "      <td>12</td>\n",
              "      <td>54</td>\n",
              "      <td>4.500000</td>\n",
              "      <td>0</td>\n",
              "      <td>0</td>\n",
              "      <td>1</td>\n",
              "      <td>0</td>\n",
              "      <td>1</td>\n",
              "    </tr>\n",
              "    <tr>\n",
              "      <th>3</th>\n",
              "      <td>ughhh i am so tired  blahhhhhhhhh</td>\n",
              "      <td>0</td>\n",
              "      <td>6</td>\n",
              "      <td>27</td>\n",
              "      <td>4.500000</td>\n",
              "      <td>3</td>\n",
              "      <td>0</td>\n",
              "      <td>0</td>\n",
              "      <td>0</td>\n",
              "      <td>0</td>\n",
              "    </tr>\n",
              "    <tr>\n",
              "      <th>4</th>\n",
              "      <td>@mandagoforth me bad! It's funny though. Zacha...</td>\n",
              "      <td>0</td>\n",
              "      <td>26</td>\n",
              "      <td>116</td>\n",
              "      <td>4.461538</td>\n",
              "      <td>12</td>\n",
              "      <td>0</td>\n",
              "      <td>2</td>\n",
              "      <td>0</td>\n",
              "      <td>0</td>\n",
              "    </tr>\n",
              "  </tbody>\n",
              "</table>\n",
              "</div>"
            ],
            "text/plain": [
              "                                              tweets  ...  upper_case_count\n",
              "0  is bored and wants to watch a movie  any sugge...  ...                 0\n",
              "1           back in miami.  waiting to unboard ship   ...                 0\n",
              "2  @misskpey awwww dnt dis brng bak memoriessss, ...  ...                 1\n",
              "3                  ughhh i am so tired  blahhhhhhhhh  ...                 0\n",
              "4  @mandagoforth me bad! It's funny though. Zacha...  ...                 0\n",
              "\n",
              "[5 rows x 10 columns]"
            ]
          },
          "metadata": {},
          "execution_count": 230
        }
      ]
    },
    {
      "cell_type": "markdown",
      "metadata": {
        "id": "SuJPhklwGszN"
      },
      "source": [
        "#### converting all the text into lower case"
      ]
    },
    {
      "cell_type": "code",
      "metadata": {
        "id": "e2egei5NGRT4"
      },
      "source": [
        "def lower_case_conversion(x):\n",
        "  return x.lower()"
      ],
      "execution_count": 231,
      "outputs": []
    },
    {
      "cell_type": "code",
      "metadata": {
        "id": "eOlufYxKG41K"
      },
      "source": [
        "data['tweets']=data['tweets'].apply(lower_case_conversion)"
      ],
      "execution_count": 232,
      "outputs": []
    },
    {
      "cell_type": "code",
      "metadata": {
        "id": "b81QlNw6Iams"
      },
      "source": [
        "contraction={\n",
        "    \"€\" : \"euro\",\n",
        "    \"4ao\" : \"for adults only\",\n",
        "    \"a.m\" : \"before midday\",\n",
        "    \"a3\" : \"anytime anywhere anyplace\",\n",
        "    \"aamof\" : \"as a matter of fact\",\n",
        "    \"acct\" : \"account\",\n",
        "    \"adih\" : \"another day in hell\",\n",
        "    \"afaic\" : \"as far as i am concerned\",\n",
        "    \"afaict\" : \"as far as i can tell\",\n",
        "    \"afaik\" : \"as far as i know\",\n",
        "    \"afair\" : \"as far as i remember\",\n",
        "    \"afk\" : \"away from keyboard\",\n",
        "    \"app\" : \"application\",\n",
        "    \"approx\" : \"approximately\",\n",
        "    \"apps\" : \"applications\",\n",
        "    \"asap\" : \"as soon as possible\",\n",
        "    \"asl\" : \"age, sex, location\",\n",
        "    \"atk\" : \"at the keyboard\",\n",
        "    \"ave.\" : \"avenue\",\n",
        "    \"aymm\" : \"are you my mother\",\n",
        "    \"ayor\" : \"at your own risk\", \n",
        "    \"b&b\" : \"bed and breakfast\",\n",
        "    \"b+b\" : \"bed and breakfast\",\n",
        "    \"b.c\" : \"before christ\",\n",
        "    \"b2b\" : \"business to business\",\n",
        "    \"b2c\" : \"business to customer\",\n",
        "    \"b4\" : \"before\",\n",
        "    \"b4n\" : \"bye for now\",\n",
        "    \"b@u\" : \"back at you\",\n",
        "    \"bae\" : \"before anyone else\",\n",
        "    \"bak\" : \"back at keyboard\",\n",
        "    \"bbbg\" : \"bye bye be good\",\n",
        "    \"bbc\" : \"british broadcasting corporation\",\n",
        "    \"bbias\" : \"be back in a second\",\n",
        "    \"bbl\" : \"be back later\",\n",
        "    \"bbs\" : \"be back soon\",\n",
        "    \"be4\" : \"before\",\n",
        "    \"bfn\" : \"bye for now\",\n",
        "    \"blvd\" : \"boulevard\",\n",
        "    \"bout\" : \"about\",\n",
        "    \"brb\" : \"be right back\",\n",
        "    \"bros\" : \"brothers\",\n",
        "    \"brt\" : \"be right there\",\n",
        "    \"bsaaw\" : \"big smile and a wink\",\n",
        "    \"btw\" : \"by the way\",\n",
        "    \"bwl\" : \"bursting with laughter\",\n",
        "    \"c/o\" : \"care of\",\n",
        "    \"cet\" : \"central european time\",\n",
        "    \"cf\" : \"compare\",\n",
        "    \"cia\" : \"central intelligence agency\",\n",
        "    \"csl\" : \"can not stop laughing\",\n",
        "    \"cu\" : \"see you\",\n",
        "    \"cul8r\" : \"see you later\",\n",
        "    \"cv\" : \"curriculum vitae\",\n",
        "    \"cwot\" : \"complete waste of time\",\n",
        "    \"cya\" : \"see you\",\n",
        "    \"cyt\" : \"see you tomorrow\",\n",
        "    \"dae\" : \"does anyone else\",\n",
        "    \"dbmib\" : \"do not bother me i am busy\",\n",
        "    \"diy\" : \"do it yourself\",\n",
        "    \"dm\" : \"direct message\",\n",
        "    \"dwh\" : \"during work hours\",\n",
        "    \"e123\" : \"easy as one two three\",\n",
        "    \"eet\" : \"eastern european time\",\n",
        "    \"eg\" : \"example\",\n",
        "    \"embm\" : \"early morning business meeting\",\n",
        "    \"encl\" : \"enclosed\",\n",
        "    \"encl.\" : \"enclosed\",\n",
        "    \"etc\" : \"and so on\",\n",
        "    \"faq\" : \"frequently asked questions\",\n",
        "    \"fawc\" : \"for anyone who cares\",\n",
        "    \"fb\" : \"facebook\",\n",
        "    \"fc\" : \"fingers crossed\",\n",
        "    \"fig\" : \"figure\",\n",
        "    \"fimh\" : \"forever in my heart\", \n",
        "    \"ft.\" : \"feet\",\n",
        "    \"ft\" : \"featuring\",\n",
        "    \"ftl\" : \"for the loss\",\n",
        "    \"ftw\" : \"for the win\",\n",
        "    \"fwiw\" : \"for what it is worth\",\n",
        "    \"fyi\" : \"for your information\",\n",
        "    \"g9\" : \"genius\",\n",
        "    \"gahoy\" : \"get a hold of yourself\",\n",
        "    \"gal\" : \"get a life\",\n",
        "    \"gcse\" : \"general certificate of secondary education\",\n",
        "    \"gfn\" : \"gone for now\",\n",
        "    \"gg\" : \"good game\",\n",
        "    \"gl\" : \"good luck\",\n",
        "    \"glhf\" : \"good luck have fun\",\n",
        "    \"gmt\" : \"greenwich mean time\",\n",
        "    \"gmta\" : \"great minds think alike\",\n",
        "    \"gn\" : \"good night\",\n",
        "    \"g.o.a.t\" : \"greatest of all time\",\n",
        "    \"goat\" : \"greatest of all time\",\n",
        "    \"goi\" : \"get over it\",\n",
        "    \"gps\" : \"global positioning system\",\n",
        "    \"gr8\" : \"great\",\n",
        "    \"gratz\" : \"congratulations\",\n",
        "    \"gyal\" : \"girl\",\n",
        "    \"h&c\" : \"hot and cold\",\n",
        "    \"hp\" : \"horsepower\",\n",
        "    \"hr\" : \"hour\",\n",
        "    \"hrh\" : \"his royal highness\",\n",
        "    \"ht\" : \"height\",\n",
        "    \"ibrb\" : \"i will be right back\",\n",
        "    \"ic\" : \"i see\",\n",
        "    \"icq\" : \"i seek you\",\n",
        "    \"icymi\" : \"in case you missed it\",\n",
        "    \"idc\" : \"i do not care\",\n",
        "    \"idgadf\" : \"i do not give a damn fuck\",\n",
        "    \"idgaf\" : \"i do not give a fuck\",\n",
        "    \"idk\" : \"i do not know\",\n",
        "    \"ie\" : \"that is\",\n",
        "    \"i.e\" : \"that is\",\n",
        "    \"ifyp\" : \"i feel your pain\",\n",
        "    \"IG\" : \"instagram\",\n",
        "    \"iirc\" : \"if i remember correctly\",\n",
        "    \"ilu\" : \"i love you\",\n",
        "    \"ily\" : \"i love you\",\n",
        "    \"imho\" : \"in my humble opinion\",\n",
        "    \"imo\" : \"in my opinion\",\n",
        "    \"imu\" : \"i miss you\",\n",
        "    \"iow\" : \"in other words\",\n",
        "    \"irl\" : \"in real life\",\n",
        "    \"j4f\" : \"just for fun\",\n",
        "    \"jic\" : \"just in case\",\n",
        "    \"jk\" : \"just kidding\",\n",
        "    \"jsyk\" : \"just so you know\",\n",
        "    \"l8r\" : \"later\",\n",
        "    \"lb\" : \"pound\",\n",
        "    \"lbs\" : \"pounds\",\n",
        "    \"ldr\" : \"long distance relationship\",\n",
        "    \"lmao\" : \"laugh my ass off\",\n",
        "    \"lmfao\" : \"laugh my fucking ass off\",\n",
        "    \"lol\" : \"laughing out loud\",\n",
        "    \"ltd\" : \"limited\",\n",
        "    \"ltns\" : \"long time no see\",\n",
        "    \"m8\" : \"mate\",\n",
        "    \"mf\" : \"motherfucker\",\n",
        "    \"mfs\" : \"motherfuckers\",\n",
        "    \"mfw\" : \"my face when\",\n",
        "    \"mofo\" : \"motherfucker\",\n",
        "    \"mph\" : \"miles per hour\",\n",
        "    \"mr\" : \"mister\",\n",
        "    \"mrw\" : \"my reaction when\",\n",
        "    \"ms\" : \"miss\",\n",
        "    \"mte\" : \"my thoughts exactly\",\n",
        "    \"nagi\" : \"not a good idea\",\n",
        "    \"nbc\" : \"national broadcasting company\",\n",
        "    \"nbd\" : \"not big deal\",\n",
        "    \"nfs\" : \"not for sale\",\n",
        "    \"ngl\" : \"not going to lie\",\n",
        "    \"nhs\" : \"national health service\",\n",
        "    \"nrn\" : \"no reply necessary\",\n",
        "    \"nsfl\" : \"not safe for life\",\n",
        "    \"nsfw\" : \"not safe for work\",\n",
        "    \"nth\" : \"nice to have\",\n",
        "    \"nvr\" : \"never\",\n",
        "    \"nyc\" : \"new york city\",\n",
        "    \"oc\" : \"original content\",\n",
        "    \"og\" : \"original\",\n",
        "    \"ohp\" : \"overhead projector\",\n",
        "    \"oic\" : \"oh i see\",\n",
        "    \"omdb\" : \"over my dead body\",\n",
        "    \"omg\" : \"oh my god\",\n",
        "    \"omw\" : \"on my way\",\n",
        "    \"p.a\" : \"per annum\",\n",
        "    \"p.m\" : \"after midday\",\n",
        "    \"pm\" : \"prime minister\",\n",
        "    \"poc\" : \"people of color\",\n",
        "    \"pov\" : \"point of view\",\n",
        "    \"pp\" : \"pages\",\n",
        "    \"ppl\" : \"people\",\n",
        "    \"prw\" : \"parents are watching\",\n",
        "    \"ps\" : \"postscript\",\n",
        "    \"pt\" : \"point\",\n",
        "    \"ptb\" : \"please text back\",\n",
        "    \"pto\" : \"please turn over\",\n",
        "    \"qpsa\" : \"what happens\",\n",
        "    \"ratchet\" : \"rude\",\n",
        "    \"rbtl\" : \"read between the lines\",\n",
        "    \"rlrt\" : \"real life retweet\", \n",
        "    \"rofl\" : \"rolling on the floor laughing\",\n",
        "    \"roflol\" : \"rolling on the floor laughing out loud\",\n",
        "    \"rotflmao\" : \"rolling on the floor laughing my ass off\",\n",
        "    \"rt\" : \"retweet\",\n",
        "    \"ruok\" : \"are you ok\",\n",
        "    \"sfw\" : \"safe for work\",\n",
        "    \"sk8\" : \"skate\",\n",
        "    \"smh\" : \"shake my head\",\n",
        "    \"sq\" : \"square\",\n",
        "    \"srsly\" : \"seriously\", \n",
        "    \"ssdd\" : \"same stuff different day\",\n",
        "    \"tbh\" : \"to be honest\",\n",
        "    \"tbs\" : \"tablespooful\",\n",
        "    \"tbsp\" : \"tablespooful\",\n",
        "    \"tfw\" : \"that feeling when\",\n",
        "    \"thks\" : \"thank you\",\n",
        "    \"tho\" : \"though\",\n",
        "    \"thx\" : \"thank you\",\n",
        "    \"tia\" : \"thanks in advance\",\n",
        "    \"til\" : \"today i learned\",\n",
        "    \"tl;dr\" : \"too long i did not read\",\n",
        "    \"tldr\" : \"too long i did not read\",\n",
        "    \"tmb\" : \"tweet me back\",\n",
        "    \"tntl\" : \"trying not to laugh\",\n",
        "    \"ttyl\" : \"talk to you later\",\n",
        "    \"u\" : \"you\",\n",
        "    \"u2\" : \"you too\",\n",
        "    \"u4e\" : \"yours for ever\",\n",
        "    \"utc\" : \"coordinated universal time\",\n",
        "    \"w/\" : \"with\",\n",
        "    \"w/o\" : \"without\",\n",
        "    \"w8\" : \"wait\",\n",
        "    \"wassup\" : \"what is up\",\n",
        "    \"wb\" : \"welcome back\",\n",
        "    \"wtf\" : \"what the fuck\",\n",
        "    \"wtg\" : \"way to go\",\n",
        "    \"wtpa\" : \"where the party at\",\n",
        "    \"wuf\" : \"where are you from\",\n",
        "    \"wuzup\" : \"what is up\",\n",
        "    \"wywh\" : \"wish you were here\",\n",
        "    \"yd\" : \"yard\",\n",
        "    \"ygtr\" : \"you got that right\",\n",
        "    \"ynk\" : \"you never know\",\n",
        "    \"zzz\" : \"sleeping bored and tired\",\n",
        "    \"ain't\": \"am not\",\n",
        "\t\"aren't\": \"are not\",\n",
        "\t\"can't\": \"cannot\",\n",
        "\t\"can't've\": \"cannot have\",\n",
        "\t\"'cause\": \"because\",\n",
        "\t\"could've\": \"could have\",\n",
        "\t\"couldn't\": \"could not\",\n",
        "\t\"couldn't've\": \"could not have\",\n",
        "\t\"didn't\": \"did not\",\n",
        "\t\"doesn't\": \"does not\",\n",
        "\t\"don't\": \"do not\",\n",
        "\t\"hadn't\": \"had not\",\n",
        "\t\"hadn't've\": \"had not have\",\n",
        "\t\"hasn't\": \"has not\",\n",
        "\t\"haven't\": \"have not\",\n",
        "\t\"he'd\": \"he would\",\n",
        "\t\"he'd've\": \"he would have\",\n",
        "\t\"he'll\": \"he will\",\n",
        "\t\"he'll've\": \"he will have\",\n",
        "\t\"he's\": \"he is\",\n",
        "\t\"how'd\": \"how did\",\n",
        "\t\"how'd'y\": \"how do you\",\n",
        "\t\"how'll\": \"how will\",\n",
        "\t\"how's\": \"how does\",\n",
        "\t\"i'd\": \"i would\",\n",
        "\t\"i'd've\": \"i would have\",\n",
        "\t\"i'll\": \"i will\",\n",
        "\t\"i'll've\": \"i will have\",\n",
        "\t\"i'm\": \"i am\",\n",
        "\t\"i've\": \"i have\",\n",
        "\t\"isn't\": \"is not\",\n",
        "\t\"it'd\": \"it would\",\n",
        "\t\"it'd've\": \"it would have\",\n",
        "\t\"it'll\": \"it will\",\n",
        "\t\"it'll've\": \"it will have\",\n",
        "\t\"it's\": \"it is\",\n",
        "\t\"let's\": \"let us\",\n",
        "\t\"ma'am\": \"madam\",\n",
        "\t\"mayn't\": \"may not\",\n",
        "\t\"might've\": \"might have\",\n",
        "\t\"mightn't\": \"might not\",\n",
        "\t\"mightn't've\": \"might not have\",\n",
        "\t\"must've\": \"must have\",\n",
        "\t\"mustn't\": \"must not\",\n",
        "\t\"mustn't've\": \"must not have\",\n",
        "\t\"needn't\": \"need not\",\n",
        "\t\"needn't've\": \"need not have\",\n",
        "\t\"o'clock\": \"of the clock\",\n",
        "\t\"oughtn't\": \"ought not\",\n",
        "\t\"oughtn't've\": \"ought not have\",\n",
        "\t\"shan't\": \"shall not\",\n",
        "\t\"sha'n't\": \"shall not\",\n",
        "\t\"shan't've\": \"shall not have\",\n",
        "\t\"she'd\": \"she would\",\n",
        "\t\"she'd've\": \"she would have\",\n",
        "\t\"she'll\": \"she will\",\n",
        "\t\"she'll've\": \"she will have\",\n",
        "\t\"she's\": \"she is\",\n",
        "\t\"should've\": \"should have\",\n",
        "\t\"shouldn't\": \"should not\",\n",
        "\t\"shouldn't've\": \"should not have\",\n",
        "\t\"so've\": \"so have\",\n",
        "\t\"so's\": \"so is\",\n",
        "\t\"that'd\": \"that would\",\n",
        "\t\"that'd've\": \"that would have\",\n",
        "\t\"that's\": \"that is\",\n",
        "\t\"there'd\": \"there would\",\n",
        "\t\"there'd've\": \"there would have\",\n",
        "\t\"there's\": \"there is\",\n",
        "\t\"they'd\": \"they would\",\n",
        "\t\"they'd've\": \"they would have\",\n",
        "\t\"they'll\": \"they will\",\n",
        "\t\"they'll've\": \"they will have\",\n",
        "\t\"they're\": \"they are\",\n",
        "\t\"they've\": \"they have\",\n",
        "\t\"to've\": \"to have\",\n",
        "\t\"wasn't\": \"was not\",\n",
        "\t\"ur\": \"your\",\n",
        "\t\"n\": \"and\",\n",
        "\t\"won't\": \"would not\",\n",
        "\t\"dis\": \"this\",\n",
        "\t\"brng\": \"bring\"\n",
        "}\n",
        "\n"
      ],
      "execution_count": 233,
      "outputs": []
    },
    {
      "cell_type": "code",
      "metadata": {
        "id": "4QIdqI3aEjQc"
      },
      "source": [
        "def cont_to_exp(x):\n",
        "  if type(x) is str:\n",
        "    for key in contraction:\n",
        "        value=contraction[key]\n",
        "        x=x.replace(key,value)\n",
        "        return x\n",
        "  else:\n",
        "    return x\n",
        "      \n",
        "\n"
      ],
      "execution_count": 234,
      "outputs": []
    },
    {
      "cell_type": "code",
      "metadata": {
        "id": "tTR3f9bqFRf7"
      },
      "source": [
        "data['cont_to_exp']=data['tweets'].apply(cont_to_exp)"
      ],
      "execution_count": 235,
      "outputs": []
    },
    {
      "cell_type": "code",
      "metadata": {
        "colab": {
          "base_uri": "https://localhost:8080/",
          "height": 469
        },
        "id": "iL3_zrYoFk57",
        "outputId": "555918e3-fd2f-4e0b-88b4-1a6477f79ca3"
      },
      "source": [
        "data.head()"
      ],
      "execution_count": 236,
      "outputs": [
        {
          "output_type": "execute_result",
          "data": {
            "text/html": [
              "<div>\n",
              "<style scoped>\n",
              "    .dataframe tbody tr th:only-of-type {\n",
              "        vertical-align: middle;\n",
              "    }\n",
              "\n",
              "    .dataframe tbody tr th {\n",
              "        vertical-align: top;\n",
              "    }\n",
              "\n",
              "    .dataframe thead th {\n",
              "        text-align: right;\n",
              "    }\n",
              "</style>\n",
              "<table border=\"1\" class=\"dataframe\">\n",
              "  <thead>\n",
              "    <tr style=\"text-align: right;\">\n",
              "      <th></th>\n",
              "      <th>tweets</th>\n",
              "      <th>sentiment</th>\n",
              "      <th>word_count</th>\n",
              "      <th>char_count</th>\n",
              "      <th>avg_word_count</th>\n",
              "      <th>stop_word_count</th>\n",
              "      <th>hashtag_count</th>\n",
              "      <th>mention_count</th>\n",
              "      <th>numeric_digit_count</th>\n",
              "      <th>upper_case_count</th>\n",
              "      <th>cont_to_exp</th>\n",
              "    </tr>\n",
              "  </thead>\n",
              "  <tbody>\n",
              "    <tr>\n",
              "      <th>0</th>\n",
              "      <td>is bored and wants to watch a movie  any sugge...</td>\n",
              "      <td>0</td>\n",
              "      <td>10</td>\n",
              "      <td>43</td>\n",
              "      <td>4.300000</td>\n",
              "      <td>5</td>\n",
              "      <td>0</td>\n",
              "      <td>0</td>\n",
              "      <td>0</td>\n",
              "      <td>0</td>\n",
              "      <td>is bored and wants to watch a movie  any sugge...</td>\n",
              "    </tr>\n",
              "    <tr>\n",
              "      <th>1</th>\n",
              "      <td>back in miami.  waiting to unboard ship</td>\n",
              "      <td>0</td>\n",
              "      <td>7</td>\n",
              "      <td>32</td>\n",
              "      <td>4.571429</td>\n",
              "      <td>3</td>\n",
              "      <td>0</td>\n",
              "      <td>0</td>\n",
              "      <td>0</td>\n",
              "      <td>0</td>\n",
              "      <td>back in miami.  waiting to unboard ship</td>\n",
              "    </tr>\n",
              "    <tr>\n",
              "      <th>2</th>\n",
              "      <td>@misskpey awwww dnt dis brng bak memoriessss, ...</td>\n",
              "      <td>0</td>\n",
              "      <td>12</td>\n",
              "      <td>54</td>\n",
              "      <td>4.500000</td>\n",
              "      <td>0</td>\n",
              "      <td>0</td>\n",
              "      <td>1</td>\n",
              "      <td>0</td>\n",
              "      <td>1</td>\n",
              "      <td>@misskpey awwww dnt dis brng bak memoriessss, ...</td>\n",
              "    </tr>\n",
              "    <tr>\n",
              "      <th>3</th>\n",
              "      <td>ughhh i am so tired  blahhhhhhhhh</td>\n",
              "      <td>0</td>\n",
              "      <td>6</td>\n",
              "      <td>27</td>\n",
              "      <td>4.500000</td>\n",
              "      <td>3</td>\n",
              "      <td>0</td>\n",
              "      <td>0</td>\n",
              "      <td>0</td>\n",
              "      <td>0</td>\n",
              "      <td>ughhh i am so tired  blahhhhhhhhh</td>\n",
              "    </tr>\n",
              "    <tr>\n",
              "      <th>4</th>\n",
              "      <td>@mandagoforth me bad! it's funny though. zacha...</td>\n",
              "      <td>0</td>\n",
              "      <td>26</td>\n",
              "      <td>116</td>\n",
              "      <td>4.461538</td>\n",
              "      <td>12</td>\n",
              "      <td>0</td>\n",
              "      <td>2</td>\n",
              "      <td>0</td>\n",
              "      <td>0</td>\n",
              "      <td>@mandagoforth me bad! it's funny though. zacha...</td>\n",
              "    </tr>\n",
              "  </tbody>\n",
              "</table>\n",
              "</div>"
            ],
            "text/plain": [
              "                                              tweets  ...                                        cont_to_exp\n",
              "0  is bored and wants to watch a movie  any sugge...  ...  is bored and wants to watch a movie  any sugge...\n",
              "1           back in miami.  waiting to unboard ship   ...           back in miami.  waiting to unboard ship \n",
              "2  @misskpey awwww dnt dis brng bak memoriessss, ...  ...  @misskpey awwww dnt dis brng bak memoriessss, ...\n",
              "3                  ughhh i am so tired  blahhhhhhhhh  ...                  ughhh i am so tired  blahhhhhhhhh\n",
              "4  @mandagoforth me bad! it's funny though. zacha...  ...  @mandagoforth me bad! it's funny though. zacha...\n",
              "\n",
              "[5 rows x 11 columns]"
            ]
          },
          "metadata": {},
          "execution_count": 236
        }
      ]
    },
    {
      "cell_type": "markdown",
      "metadata": {
        "id": "j4yhk8TGFzmO"
      },
      "source": [
        "## count and remove the "
      ]
    },
    {
      "cell_type": "code",
      "metadata": {
        "id": "PrGq_itFGqwJ"
      },
      "source": [
        "x=\"akhilanandkspa@gmail.com\""
      ],
      "execution_count": 237,
      "outputs": []
    },
    {
      "cell_type": "code",
      "metadata": {
        "id": "e4WcSVXzHs6A"
      },
      "source": [
        "def emails(x):\n",
        "  return re.findall(r\"([a-zA-Z0-9+._-]+@[a-zA-Z0-9._-]+\\.[a-zA-Z0-9_-])\",x)"
      ],
      "execution_count": 238,
      "outputs": []
    },
    {
      "cell_type": "code",
      "metadata": {
        "id": "GQOs-wfwIWaD"
      },
      "source": [
        "data['emails']=data['tweets'].apply(emails)"
      ],
      "execution_count": 239,
      "outputs": []
    },
    {
      "cell_type": "code",
      "metadata": {
        "colab": {
          "base_uri": "https://localhost:8080/",
          "height": 469
        },
        "id": "RuqkhSfMIcTt",
        "outputId": "e2c771e3-e697-4ec8-ed38-eef2b90ac6c1"
      },
      "source": [
        "data.head()"
      ],
      "execution_count": 240,
      "outputs": [
        {
          "output_type": "execute_result",
          "data": {
            "text/html": [
              "<div>\n",
              "<style scoped>\n",
              "    .dataframe tbody tr th:only-of-type {\n",
              "        vertical-align: middle;\n",
              "    }\n",
              "\n",
              "    .dataframe tbody tr th {\n",
              "        vertical-align: top;\n",
              "    }\n",
              "\n",
              "    .dataframe thead th {\n",
              "        text-align: right;\n",
              "    }\n",
              "</style>\n",
              "<table border=\"1\" class=\"dataframe\">\n",
              "  <thead>\n",
              "    <tr style=\"text-align: right;\">\n",
              "      <th></th>\n",
              "      <th>tweets</th>\n",
              "      <th>sentiment</th>\n",
              "      <th>word_count</th>\n",
              "      <th>char_count</th>\n",
              "      <th>avg_word_count</th>\n",
              "      <th>stop_word_count</th>\n",
              "      <th>hashtag_count</th>\n",
              "      <th>mention_count</th>\n",
              "      <th>numeric_digit_count</th>\n",
              "      <th>upper_case_count</th>\n",
              "      <th>cont_to_exp</th>\n",
              "      <th>emails</th>\n",
              "    </tr>\n",
              "  </thead>\n",
              "  <tbody>\n",
              "    <tr>\n",
              "      <th>0</th>\n",
              "      <td>is bored and wants to watch a movie  any sugge...</td>\n",
              "      <td>0</td>\n",
              "      <td>10</td>\n",
              "      <td>43</td>\n",
              "      <td>4.300000</td>\n",
              "      <td>5</td>\n",
              "      <td>0</td>\n",
              "      <td>0</td>\n",
              "      <td>0</td>\n",
              "      <td>0</td>\n",
              "      <td>is bored and wants to watch a movie  any sugge...</td>\n",
              "      <td>[]</td>\n",
              "    </tr>\n",
              "    <tr>\n",
              "      <th>1</th>\n",
              "      <td>back in miami.  waiting to unboard ship</td>\n",
              "      <td>0</td>\n",
              "      <td>7</td>\n",
              "      <td>32</td>\n",
              "      <td>4.571429</td>\n",
              "      <td>3</td>\n",
              "      <td>0</td>\n",
              "      <td>0</td>\n",
              "      <td>0</td>\n",
              "      <td>0</td>\n",
              "      <td>back in miami.  waiting to unboard ship</td>\n",
              "      <td>[]</td>\n",
              "    </tr>\n",
              "    <tr>\n",
              "      <th>2</th>\n",
              "      <td>@misskpey awwww dnt dis brng bak memoriessss, ...</td>\n",
              "      <td>0</td>\n",
              "      <td>12</td>\n",
              "      <td>54</td>\n",
              "      <td>4.500000</td>\n",
              "      <td>0</td>\n",
              "      <td>0</td>\n",
              "      <td>1</td>\n",
              "      <td>0</td>\n",
              "      <td>1</td>\n",
              "      <td>@misskpey awwww dnt dis brng bak memoriessss, ...</td>\n",
              "      <td>[]</td>\n",
              "    </tr>\n",
              "    <tr>\n",
              "      <th>3</th>\n",
              "      <td>ughhh i am so tired  blahhhhhhhhh</td>\n",
              "      <td>0</td>\n",
              "      <td>6</td>\n",
              "      <td>27</td>\n",
              "      <td>4.500000</td>\n",
              "      <td>3</td>\n",
              "      <td>0</td>\n",
              "      <td>0</td>\n",
              "      <td>0</td>\n",
              "      <td>0</td>\n",
              "      <td>ughhh i am so tired  blahhhhhhhhh</td>\n",
              "      <td>[]</td>\n",
              "    </tr>\n",
              "    <tr>\n",
              "      <th>4</th>\n",
              "      <td>@mandagoforth me bad! it's funny though. zacha...</td>\n",
              "      <td>0</td>\n",
              "      <td>26</td>\n",
              "      <td>116</td>\n",
              "      <td>4.461538</td>\n",
              "      <td>12</td>\n",
              "      <td>0</td>\n",
              "      <td>2</td>\n",
              "      <td>0</td>\n",
              "      <td>0</td>\n",
              "      <td>@mandagoforth me bad! it's funny though. zacha...</td>\n",
              "      <td>[]</td>\n",
              "    </tr>\n",
              "  </tbody>\n",
              "</table>\n",
              "</div>"
            ],
            "text/plain": [
              "                                              tweets  ...  emails\n",
              "0  is bored and wants to watch a movie  any sugge...  ...      []\n",
              "1           back in miami.  waiting to unboard ship   ...      []\n",
              "2  @misskpey awwww dnt dis brng bak memoriessss, ...  ...      []\n",
              "3                  ughhh i am so tired  blahhhhhhhhh  ...      []\n",
              "4  @mandagoforth me bad! it's funny though. zacha...  ...      []\n",
              "\n",
              "[5 rows x 12 columns]"
            ]
          },
          "metadata": {},
          "execution_count": 240
        }
      ]
    },
    {
      "cell_type": "code",
      "metadata": {
        "id": "fwwhjWKeIdXS"
      },
      "source": [
        "data['email_count']=data['emails'].apply(lambda x:len(x))"
      ],
      "execution_count": 241,
      "outputs": []
    },
    {
      "cell_type": "code",
      "metadata": {
        "colab": {
          "base_uri": "https://localhost:8080/",
          "height": 135
        },
        "id": "aJdGLZqAI4Do",
        "outputId": "05d8b851-ba2f-471e-c08d-a7122db5c4fa"
      },
      "source": [
        "data[data['email_count']>0]"
      ],
      "execution_count": 242,
      "outputs": [
        {
          "output_type": "execute_result",
          "data": {
            "text/html": [
              "<div>\n",
              "<style scoped>\n",
              "    .dataframe tbody tr th:only-of-type {\n",
              "        vertical-align: middle;\n",
              "    }\n",
              "\n",
              "    .dataframe tbody tr th {\n",
              "        vertical-align: top;\n",
              "    }\n",
              "\n",
              "    .dataframe thead th {\n",
              "        text-align: right;\n",
              "    }\n",
              "</style>\n",
              "<table border=\"1\" class=\"dataframe\">\n",
              "  <thead>\n",
              "    <tr style=\"text-align: right;\">\n",
              "      <th></th>\n",
              "      <th>tweets</th>\n",
              "      <th>sentiment</th>\n",
              "      <th>word_count</th>\n",
              "      <th>char_count</th>\n",
              "      <th>avg_word_count</th>\n",
              "      <th>stop_word_count</th>\n",
              "      <th>hashtag_count</th>\n",
              "      <th>mention_count</th>\n",
              "      <th>numeric_digit_count</th>\n",
              "      <th>upper_case_count</th>\n",
              "      <th>cont_to_exp</th>\n",
              "      <th>emails</th>\n",
              "      <th>email_count</th>\n",
              "    </tr>\n",
              "  </thead>\n",
              "  <tbody>\n",
              "    <tr>\n",
              "      <th>3713</th>\n",
              "      <td>@securerecs arghh me please  markbradbury_16@h...</td>\n",
              "      <td>1</td>\n",
              "      <td>5</td>\n",
              "      <td>51</td>\n",
              "      <td>10.2</td>\n",
              "      <td>0</td>\n",
              "      <td>0</td>\n",
              "      <td>1</td>\n",
              "      <td>0</td>\n",
              "      <td>0</td>\n",
              "      <td>@securerecs arghh me please  markbradbury_16@h...</td>\n",
              "      <td>[markbradbury_16@hotmail.c]</td>\n",
              "      <td>1</td>\n",
              "    </tr>\n",
              "  </tbody>\n",
              "</table>\n",
              "</div>"
            ],
            "text/plain": [
              "                                                 tweets  ...  email_count\n",
              "3713  @securerecs arghh me please  markbradbury_16@h...  ...            1\n",
              "\n",
              "[1 rows x 13 columns]"
            ]
          },
          "metadata": {},
          "execution_count": 242
        }
      ]
    },
    {
      "cell_type": "markdown",
      "metadata": {
        "id": "6Nrii8iUJNJm"
      },
      "source": [
        "## email removal from dataset"
      ]
    },
    {
      "cell_type": "code",
      "metadata": {
        "id": "iVqJf670I862"
      },
      "source": [
        "def email_removal(x):\n",
        "  return re.sub(r\"([a-zA-Z0-9+._-]+@[a-zA-Z0-9._-]+\\.[a-zA-Z0-9_-])\",\"\",x)"
      ],
      "execution_count": 243,
      "outputs": []
    },
    {
      "cell_type": "code",
      "metadata": {
        "id": "vJSeYW3VJZt6"
      },
      "source": [
        "data['tweets']=data['tweets'].apply(email_removal)"
      ],
      "execution_count": 244,
      "outputs": []
    },
    {
      "cell_type": "code",
      "metadata": {
        "colab": {
          "base_uri": "https://localhost:8080/",
          "height": 35
        },
        "id": "xqiinEAAJhh1",
        "outputId": "28d92520-3335-426f-9bef-ef62a6914662"
      },
      "source": [
        "data['tweets'][3713]"
      ],
      "execution_count": 245,
      "outputs": [
        {
          "output_type": "execute_result",
          "data": {
            "application/vnd.google.colaboratory.intrinsic+json": {
              "type": "string"
            },
            "text/plain": [
              "'@securerecs arghh me please  om'"
            ]
          },
          "metadata": {},
          "execution_count": 245
        }
      ]
    },
    {
      "cell_type": "code",
      "metadata": {
        "id": "azJDj3bMJo76"
      },
      "source": [
        "def url_finding(x):\n",
        "  return re.findall(r'(http|ftp|https|ssh)://([\\w_-]+(?:(?:\\.[\\w_-]+)+))([\\w.,@?^=%&:/~+#-]*[\\w@?^=%&/~+#-])?',x)"
      ],
      "execution_count": 246,
      "outputs": []
    },
    {
      "cell_type": "code",
      "metadata": {
        "id": "Z3POj5chKPhV"
      },
      "source": [
        "data['url_finding']=data['tweets'].apply(url_finding)"
      ],
      "execution_count": 247,
      "outputs": []
    },
    {
      "cell_type": "code",
      "metadata": {
        "id": "AHQahi93KXwl"
      },
      "source": [
        "data['url_count']=data['url_finding'].apply(lambda x:len(x))"
      ],
      "execution_count": 248,
      "outputs": []
    },
    {
      "cell_type": "code",
      "metadata": {
        "colab": {
          "base_uri": "https://localhost:8080/",
          "height": 807
        },
        "id": "RK1RiYjGLcRq",
        "outputId": "0204b105-1341-46f2-dcef-d0749ab8a5c1"
      },
      "source": [
        "data[data['url_count']>0]"
      ],
      "execution_count": 249,
      "outputs": [
        {
          "output_type": "execute_result",
          "data": {
            "text/html": [
              "<div>\n",
              "<style scoped>\n",
              "    .dataframe tbody tr th:only-of-type {\n",
              "        vertical-align: middle;\n",
              "    }\n",
              "\n",
              "    .dataframe tbody tr th {\n",
              "        vertical-align: top;\n",
              "    }\n",
              "\n",
              "    .dataframe thead th {\n",
              "        text-align: right;\n",
              "    }\n",
              "</style>\n",
              "<table border=\"1\" class=\"dataframe\">\n",
              "  <thead>\n",
              "    <tr style=\"text-align: right;\">\n",
              "      <th></th>\n",
              "      <th>tweets</th>\n",
              "      <th>sentiment</th>\n",
              "      <th>word_count</th>\n",
              "      <th>char_count</th>\n",
              "      <th>avg_word_count</th>\n",
              "      <th>stop_word_count</th>\n",
              "      <th>hashtag_count</th>\n",
              "      <th>mention_count</th>\n",
              "      <th>numeric_digit_count</th>\n",
              "      <th>upper_case_count</th>\n",
              "      <th>cont_to_exp</th>\n",
              "      <th>emails</th>\n",
              "      <th>email_count</th>\n",
              "      <th>url_finding</th>\n",
              "      <th>url_count</th>\n",
              "    </tr>\n",
              "  </thead>\n",
              "  <tbody>\n",
              "    <tr>\n",
              "      <th>16</th>\n",
              "      <td>@brianquest i made 1 fo u 2: http://bit.ly/eid...</td>\n",
              "      <td>0</td>\n",
              "      <td>19</td>\n",
              "      <td>81</td>\n",
              "      <td>4.263158</td>\n",
              "      <td>3</td>\n",
              "      <td>0</td>\n",
              "      <td>1</td>\n",
              "      <td>1</td>\n",
              "      <td>3</td>\n",
              "      <td>@brianquest i made 1 fo u 2: http://bit.ly/eid...</td>\n",
              "      <td>[]</td>\n",
              "      <td>0</td>\n",
              "      <td>[(http, bit.ly, /eid8a)]</td>\n",
              "      <td>1</td>\n",
              "    </tr>\n",
              "    <tr>\n",
              "      <th>98</th>\n",
              "      <td>heading to work  http://twitpic.com/4eojz</td>\n",
              "      <td>0</td>\n",
              "      <td>4</td>\n",
              "      <td>37</td>\n",
              "      <td>9.250000</td>\n",
              "      <td>1</td>\n",
              "      <td>0</td>\n",
              "      <td>0</td>\n",
              "      <td>0</td>\n",
              "      <td>0</td>\n",
              "      <td>heading to work  http://twitpic.com/4eojz</td>\n",
              "      <td>[]</td>\n",
              "      <td>0</td>\n",
              "      <td>[(http, twitpic.com, /4eojz)]</td>\n",
              "      <td>1</td>\n",
              "    </tr>\n",
              "    <tr>\n",
              "      <th>99</th>\n",
              "      <td>@blondeblogger http://twitpic.com/4w8hk - i'm ...</td>\n",
              "      <td>0</td>\n",
              "      <td>10</td>\n",
              "      <td>62</td>\n",
              "      <td>6.200000</td>\n",
              "      <td>3</td>\n",
              "      <td>0</td>\n",
              "      <td>1</td>\n",
              "      <td>0</td>\n",
              "      <td>0</td>\n",
              "      <td>@blondeblogger http://twitpic.com/4w8hk - i'm ...</td>\n",
              "      <td>[]</td>\n",
              "      <td>0</td>\n",
              "      <td>[(http, twitpic.com, /4w8hk)]</td>\n",
              "      <td>1</td>\n",
              "    </tr>\n",
              "    <tr>\n",
              "      <th>144</th>\n",
              "      <td>i miss you  â« http://blip.fm/~8lc2f</td>\n",
              "      <td>0</td>\n",
              "      <td>5</td>\n",
              "      <td>32</td>\n",
              "      <td>6.400000</td>\n",
              "      <td>1</td>\n",
              "      <td>0</td>\n",
              "      <td>0</td>\n",
              "      <td>0</td>\n",
              "      <td>1</td>\n",
              "      <td>i miss you  â« http://blip.fm/~8lc2f</td>\n",
              "      <td>[]</td>\n",
              "      <td>0</td>\n",
              "      <td>[(http, blip.fm, /~8lc2f)]</td>\n",
              "      <td>1</td>\n",
              "    </tr>\n",
              "    <tr>\n",
              "      <th>183</th>\n",
              "      <td>photo: miss germany  http://tumblr.com/xf825f012</td>\n",
              "      <td>0</td>\n",
              "      <td>4</td>\n",
              "      <td>44</td>\n",
              "      <td>11.000000</td>\n",
              "      <td>0</td>\n",
              "      <td>0</td>\n",
              "      <td>0</td>\n",
              "      <td>0</td>\n",
              "      <td>0</td>\n",
              "      <td>photo: miss germany  http://tumblr.com/xf825f012</td>\n",
              "      <td>[]</td>\n",
              "      <td>0</td>\n",
              "      <td>[(http, tumblr.com, /xf825f012)]</td>\n",
              "      <td>1</td>\n",
              "    </tr>\n",
              "    <tr>\n",
              "      <th>...</th>\n",
              "      <td>...</td>\n",
              "      <td>...</td>\n",
              "      <td>...</td>\n",
              "      <td>...</td>\n",
              "      <td>...</td>\n",
              "      <td>...</td>\n",
              "      <td>...</td>\n",
              "      <td>...</td>\n",
              "      <td>...</td>\n",
              "      <td>...</td>\n",
              "      <td>...</td>\n",
              "      <td>...</td>\n",
              "      <td>...</td>\n",
              "      <td>...</td>\n",
              "      <td>...</td>\n",
              "    </tr>\n",
              "    <tr>\n",
              "      <th>3819</th>\n",
              "      <td>new staark video of &amp;quot;sweet release&amp;quot; ...</td>\n",
              "      <td>1</td>\n",
              "      <td>20</td>\n",
              "      <td>118</td>\n",
              "      <td>5.900000</td>\n",
              "      <td>4</td>\n",
              "      <td>0</td>\n",
              "      <td>0</td>\n",
              "      <td>0</td>\n",
              "      <td>1</td>\n",
              "      <td>new staark video of &amp;quot;sweet release&amp;quot; ...</td>\n",
              "      <td>[]</td>\n",
              "      <td>0</td>\n",
              "      <td>[(http, staark.net, /video.php)]</td>\n",
              "      <td>1</td>\n",
              "    </tr>\n",
              "    <tr>\n",
              "      <th>3826</th>\n",
              "      <td>http://tinyurl.com/kwmynq helmet - unsung to s...</td>\n",
              "      <td>1</td>\n",
              "      <td>9</td>\n",
              "      <td>76</td>\n",
              "      <td>8.444444</td>\n",
              "      <td>2</td>\n",
              "      <td>0</td>\n",
              "      <td>0</td>\n",
              "      <td>0</td>\n",
              "      <td>0</td>\n",
              "      <td>http://tinyurl.com/kwmynq helmet - unsung to s...</td>\n",
              "      <td>[]</td>\n",
              "      <td>0</td>\n",
              "      <td>[(http, tinyurl.com, /kwmynq), (http, plurk.co...</td>\n",
              "      <td>2</td>\n",
              "    </tr>\n",
              "    <tr>\n",
              "      <th>3837</th>\n",
              "      <td>@r0ckergirl14 wow sweet again!!  http://twitpi...</td>\n",
              "      <td>1</td>\n",
              "      <td>5</td>\n",
              "      <td>52</td>\n",
              "      <td>10.400000</td>\n",
              "      <td>0</td>\n",
              "      <td>0</td>\n",
              "      <td>1</td>\n",
              "      <td>0</td>\n",
              "      <td>0</td>\n",
              "      <td>@r0ckergirl14 wow sweet again!!  http://twitpi...</td>\n",
              "      <td>[]</td>\n",
              "      <td>0</td>\n",
              "      <td>[(http, twitpic.com, /69b67)]</td>\n",
              "      <td>1</td>\n",
              "    </tr>\n",
              "    <tr>\n",
              "      <th>3958</th>\n",
              "      <td>someone has been creative with my #deskmess wh...</td>\n",
              "      <td>1</td>\n",
              "      <td>13</td>\n",
              "      <td>91</td>\n",
              "      <td>7.000000</td>\n",
              "      <td>6</td>\n",
              "      <td>1</td>\n",
              "      <td>1</td>\n",
              "      <td>0</td>\n",
              "      <td>0</td>\n",
              "      <td>someone has been creative with my #deskmess wh...</td>\n",
              "      <td>[]</td>\n",
              "      <td>0</td>\n",
              "      <td>[(http, twitpic.com, /7jgf1)]</td>\n",
              "      <td>1</td>\n",
              "    </tr>\n",
              "    <tr>\n",
              "      <th>3974</th>\n",
              "      <td>@gtucker13 http://twitpic.com/6tw87 - no reall...</td>\n",
              "      <td>1</td>\n",
              "      <td>16</td>\n",
              "      <td>84</td>\n",
              "      <td>5.250000</td>\n",
              "      <td>9</td>\n",
              "      <td>0</td>\n",
              "      <td>1</td>\n",
              "      <td>0</td>\n",
              "      <td>0</td>\n",
              "      <td>@gtucker13 http://twitpic.com/6tw87 - no reall...</td>\n",
              "      <td>[]</td>\n",
              "      <td>0</td>\n",
              "      <td>[(http, twitpic.com, /6tw87)]</td>\n",
              "      <td>1</td>\n",
              "    </tr>\n",
              "  </tbody>\n",
              "</table>\n",
              "<p>185 rows × 15 columns</p>\n",
              "</div>"
            ],
            "text/plain": [
              "                                                 tweets  ...  url_count\n",
              "16    @brianquest i made 1 fo u 2: http://bit.ly/eid...  ...          1\n",
              "98            heading to work  http://twitpic.com/4eojz  ...          1\n",
              "99    @blondeblogger http://twitpic.com/4w8hk - i'm ...  ...          1\n",
              "144               i miss you  â« http://blip.fm/~8lc2f  ...          1\n",
              "183    photo: miss germany  http://tumblr.com/xf825f012  ...          1\n",
              "...                                                 ...  ...        ...\n",
              "3819  new staark video of &quot;sweet release&quot; ...  ...          1\n",
              "3826  http://tinyurl.com/kwmynq helmet - unsung to s...  ...          2\n",
              "3837  @r0ckergirl14 wow sweet again!!  http://twitpi...  ...          1\n",
              "3958  someone has been creative with my #deskmess wh...  ...          1\n",
              "3974  @gtucker13 http://twitpic.com/6tw87 - no reall...  ...          1\n",
              "\n",
              "[185 rows x 15 columns]"
            ]
          },
          "metadata": {},
          "execution_count": 249
        }
      ]
    },
    {
      "cell_type": "code",
      "metadata": {
        "id": "2-KdKD84LkIt"
      },
      "source": [
        "def remove_url(x):\n",
        "  return re.sub(r'(http|ftp|https|ssh)://([\\w_-]+(?:(?:\\.[\\w_-]+)+))([\\w.,@?^=%&:/~+#-]*[\\w@?^=%&/~+#-])?','',x)"
      ],
      "execution_count": 250,
      "outputs": []
    },
    {
      "cell_type": "code",
      "metadata": {
        "id": "BRgknVCGLdmW"
      },
      "source": [
        "data['tweets']=data['tweets'].apply(remove_url)"
      ],
      "execution_count": 251,
      "outputs": []
    },
    {
      "cell_type": "markdown",
      "metadata": {
        "id": "I8tV8cpBMOtr"
      },
      "source": [
        "## remove retweets from the tweets"
      ]
    },
    {
      "cell_type": "code",
      "metadata": {
        "colab": {
          "base_uri": "https://localhost:8080/",
          "height": 35
        },
        "id": "hIPsts-uMBVQ",
        "outputId": "af6f4152-4120-4f01-be10-c9a980b2db77"
      },
      "source": [
        "a=\"rt @akhil what's up\"\n",
        "re.sub(r\"\\brt\\b\",'',a)"
      ],
      "execution_count": 252,
      "outputs": [
        {
          "output_type": "execute_result",
          "data": {
            "application/vnd.google.colaboratory.intrinsic+json": {
              "type": "string"
            },
            "text/plain": [
              "\" @akhil what's up\""
            ]
          },
          "metadata": {},
          "execution_count": 252
        }
      ]
    },
    {
      "cell_type": "code",
      "metadata": {
        "id": "pAe5I7TEMhqo"
      },
      "source": [
        "def retweet_removal(x):\n",
        "  return re.sub(\"\\brt\\b\",\"\",x)"
      ],
      "execution_count": 253,
      "outputs": []
    },
    {
      "cell_type": "code",
      "metadata": {
        "id": "5gfdYMNwM2-C"
      },
      "source": [
        "data['tweets']=data['tweets'].apply(retweet_removal)"
      ],
      "execution_count": 254,
      "outputs": []
    },
    {
      "cell_type": "markdown",
      "metadata": {
        "id": "-MurIq_HNYXu"
      },
      "source": [
        "## removing special character"
      ]
    },
    {
      "cell_type": "code",
      "metadata": {
        "id": "pD9YQjTEM9GF"
      },
      "source": [
        "def remove_spec_char(x):\n",
        "  return re.sub(r\"[^\\w ]\",\" \",x)"
      ],
      "execution_count": 255,
      "outputs": []
    },
    {
      "cell_type": "code",
      "metadata": {
        "colab": {
          "base_uri": "https://localhost:8080/",
          "height": 35
        },
        "id": "QEHQJYdTNtjj",
        "outputId": "7c9a5f9f-f7ba-4afc-d455-85b4bf79bcee"
      },
      "source": [
        "remove_spec_char(\"@akhil anand how are you ?????\")"
      ],
      "execution_count": 256,
      "outputs": [
        {
          "output_type": "execute_result",
          "data": {
            "application/vnd.google.colaboratory.intrinsic+json": {
              "type": "string"
            },
            "text/plain": [
              "' akhil anand how are you      '"
            ]
          },
          "metadata": {},
          "execution_count": 256
        }
      ]
    },
    {
      "cell_type": "code",
      "metadata": {
        "id": "XSzCH8yPNzY-"
      },
      "source": [
        "data['tweets']=data['tweets'].apply(remove_spec_char)"
      ],
      "execution_count": 257,
      "outputs": []
    },
    {
      "cell_type": "code",
      "metadata": {
        "colab": {
          "base_uri": "https://localhost:8080/",
          "height": 486
        },
        "id": "35cAhZSIOS9q",
        "outputId": "dae45fec-6423-4aee-faa2-23707030438b"
      },
      "source": [
        "data.head()"
      ],
      "execution_count": 258,
      "outputs": [
        {
          "output_type": "execute_result",
          "data": {
            "text/html": [
              "<div>\n",
              "<style scoped>\n",
              "    .dataframe tbody tr th:only-of-type {\n",
              "        vertical-align: middle;\n",
              "    }\n",
              "\n",
              "    .dataframe tbody tr th {\n",
              "        vertical-align: top;\n",
              "    }\n",
              "\n",
              "    .dataframe thead th {\n",
              "        text-align: right;\n",
              "    }\n",
              "</style>\n",
              "<table border=\"1\" class=\"dataframe\">\n",
              "  <thead>\n",
              "    <tr style=\"text-align: right;\">\n",
              "      <th></th>\n",
              "      <th>tweets</th>\n",
              "      <th>sentiment</th>\n",
              "      <th>word_count</th>\n",
              "      <th>char_count</th>\n",
              "      <th>avg_word_count</th>\n",
              "      <th>stop_word_count</th>\n",
              "      <th>hashtag_count</th>\n",
              "      <th>mention_count</th>\n",
              "      <th>numeric_digit_count</th>\n",
              "      <th>upper_case_count</th>\n",
              "      <th>cont_to_exp</th>\n",
              "      <th>emails</th>\n",
              "      <th>email_count</th>\n",
              "      <th>url_finding</th>\n",
              "      <th>url_count</th>\n",
              "    </tr>\n",
              "  </thead>\n",
              "  <tbody>\n",
              "    <tr>\n",
              "      <th>0</th>\n",
              "      <td>is bored and wants to watch a movie  any sugge...</td>\n",
              "      <td>0</td>\n",
              "      <td>10</td>\n",
              "      <td>43</td>\n",
              "      <td>4.300000</td>\n",
              "      <td>5</td>\n",
              "      <td>0</td>\n",
              "      <td>0</td>\n",
              "      <td>0</td>\n",
              "      <td>0</td>\n",
              "      <td>is bored and wants to watch a movie  any sugge...</td>\n",
              "      <td>[]</td>\n",
              "      <td>0</td>\n",
              "      <td>[]</td>\n",
              "      <td>0</td>\n",
              "    </tr>\n",
              "    <tr>\n",
              "      <th>1</th>\n",
              "      <td>back in miami   waiting to unboard ship</td>\n",
              "      <td>0</td>\n",
              "      <td>7</td>\n",
              "      <td>32</td>\n",
              "      <td>4.571429</td>\n",
              "      <td>3</td>\n",
              "      <td>0</td>\n",
              "      <td>0</td>\n",
              "      <td>0</td>\n",
              "      <td>0</td>\n",
              "      <td>back in miami.  waiting to unboard ship</td>\n",
              "      <td>[]</td>\n",
              "      <td>0</td>\n",
              "      <td>[]</td>\n",
              "      <td>0</td>\n",
              "    </tr>\n",
              "    <tr>\n",
              "      <th>2</th>\n",
              "      <td>misskpey awwww dnt dis brng bak memoriessss  ...</td>\n",
              "      <td>0</td>\n",
              "      <td>12</td>\n",
              "      <td>54</td>\n",
              "      <td>4.500000</td>\n",
              "      <td>0</td>\n",
              "      <td>0</td>\n",
              "      <td>1</td>\n",
              "      <td>0</td>\n",
              "      <td>1</td>\n",
              "      <td>@misskpey awwww dnt dis brng bak memoriessss, ...</td>\n",
              "      <td>[]</td>\n",
              "      <td>0</td>\n",
              "      <td>[]</td>\n",
              "      <td>0</td>\n",
              "    </tr>\n",
              "    <tr>\n",
              "      <th>3</th>\n",
              "      <td>ughhh i am so tired  blahhhhhhhhh</td>\n",
              "      <td>0</td>\n",
              "      <td>6</td>\n",
              "      <td>27</td>\n",
              "      <td>4.500000</td>\n",
              "      <td>3</td>\n",
              "      <td>0</td>\n",
              "      <td>0</td>\n",
              "      <td>0</td>\n",
              "      <td>0</td>\n",
              "      <td>ughhh i am so tired  blahhhhhhhhh</td>\n",
              "      <td>[]</td>\n",
              "      <td>0</td>\n",
              "      <td>[]</td>\n",
              "      <td>0</td>\n",
              "    </tr>\n",
              "    <tr>\n",
              "      <th>4</th>\n",
              "      <td>mandagoforth me bad  it s funny though  zacha...</td>\n",
              "      <td>0</td>\n",
              "      <td>26</td>\n",
              "      <td>116</td>\n",
              "      <td>4.461538</td>\n",
              "      <td>12</td>\n",
              "      <td>0</td>\n",
              "      <td>2</td>\n",
              "      <td>0</td>\n",
              "      <td>0</td>\n",
              "      <td>@mandagoforth me bad! it's funny though. zacha...</td>\n",
              "      <td>[]</td>\n",
              "      <td>0</td>\n",
              "      <td>[]</td>\n",
              "      <td>0</td>\n",
              "    </tr>\n",
              "  </tbody>\n",
              "</table>\n",
              "</div>"
            ],
            "text/plain": [
              "                                              tweets  ...  url_count\n",
              "0  is bored and wants to watch a movie  any sugge...  ...          0\n",
              "1           back in miami   waiting to unboard ship   ...          0\n",
              "2   misskpey awwww dnt dis brng bak memoriessss  ...  ...          0\n",
              "3                  ughhh i am so tired  blahhhhhhhhh  ...          0\n",
              "4   mandagoforth me bad  it s funny though  zacha...  ...          0\n",
              "\n",
              "[5 rows x 15 columns]"
            ]
          },
          "metadata": {},
          "execution_count": 258
        }
      ]
    },
    {
      "cell_type": "markdown",
      "metadata": {
        "id": "bWsOwwQYOdCE"
      },
      "source": [
        "## remove multiple spaces"
      ]
    },
    {
      "cell_type": "code",
      "metadata": {
        "id": "JJ_lT1VnOXOP"
      },
      "source": [
        "a=\"akhil    anand     kspa\""
      ],
      "execution_count": 259,
      "outputs": []
    },
    {
      "cell_type": "code",
      "metadata": {
        "id": "l-1485VkOoiH"
      },
      "source": [
        "a=a.split()\n",
        "a=' '.join(a)"
      ],
      "execution_count": 260,
      "outputs": []
    },
    {
      "cell_type": "code",
      "metadata": {
        "colab": {
          "base_uri": "https://localhost:8080/",
          "height": 35
        },
        "id": "1LcsW7VdOqMb",
        "outputId": "1636add4-b3f1-4cba-ae35-08590b4d9b23"
      },
      "source": [
        "a"
      ],
      "execution_count": 261,
      "outputs": [
        {
          "output_type": "execute_result",
          "data": {
            "application/vnd.google.colaboratory.intrinsic+json": {
              "type": "string"
            },
            "text/plain": [
              "'akhil anand kspa'"
            ]
          },
          "metadata": {},
          "execution_count": 261
        }
      ]
    },
    {
      "cell_type": "code",
      "metadata": {
        "id": "RKNX9mbBO37W"
      },
      "source": [
        "def remove_mul_space(x):\n",
        "  x_list=x.split()\n",
        "  x_str=\" \".join(x_list)\n",
        "  return x_str"
      ],
      "execution_count": 262,
      "outputs": []
    },
    {
      "cell_type": "code",
      "metadata": {
        "id": "rZ9olZMzPEco"
      },
      "source": [
        "data['tweets']=data['tweets'].apply(remove_mul_space)"
      ],
      "execution_count": 263,
      "outputs": []
    },
    {
      "cell_type": "code",
      "metadata": {
        "id": "JdSqVFHoPIwS"
      },
      "source": [
        "a1=\"\"\" akhl anand kspa\n",
        "      <html></h1\"\"\"\n"
      ],
      "execution_count": 264,
      "outputs": []
    },
    {
      "cell_type": "code",
      "metadata": {
        "id": "UyfQzF12Pm7I"
      },
      "source": [
        "from bs4 import BeautifulSoup as bs"
      ],
      "execution_count": 265,
      "outputs": []
    },
    {
      "cell_type": "code",
      "metadata": {
        "colab": {
          "base_uri": "https://localhost:8080/",
          "height": 35
        },
        "id": "WHmZQzO7PuDK",
        "outputId": "630ea557-d9a3-49e7-d3d4-2aa4e41515fa"
      },
      "source": [
        "bs(a1,'lxml').get_text()"
      ],
      "execution_count": 266,
      "outputs": [
        {
          "output_type": "execute_result",
          "data": {
            "application/vnd.google.colaboratory.intrinsic+json": {
              "type": "string"
            },
            "text/plain": [
              "'akhl anand kspa\\n      '"
            ]
          },
          "metadata": {},
          "execution_count": 266
        }
      ]
    },
    {
      "cell_type": "code",
      "metadata": {
        "id": "TUMLxX50PzWH"
      },
      "source": [
        "def remove_html_tag(x):\n",
        "  return bs(x,'lxml').get_text()"
      ],
      "execution_count": 267,
      "outputs": []
    },
    {
      "cell_type": "code",
      "metadata": {
        "id": "qKNLwdZ2QYZl"
      },
      "source": [
        "data['tweets']=data['tweets'].apply(remove_html_tag)"
      ],
      "execution_count": 268,
      "outputs": []
    },
    {
      "cell_type": "code",
      "metadata": {
        "colab": {
          "base_uri": "https://localhost:8080/",
          "height": 323
        },
        "id": "xKOvvtPLQgFd",
        "outputId": "24cd7ce7-4055-4f95-c174-ddda77bb6fb0"
      },
      "source": [
        "data.head(2)"
      ],
      "execution_count": 269,
      "outputs": [
        {
          "output_type": "execute_result",
          "data": {
            "text/html": [
              "<div>\n",
              "<style scoped>\n",
              "    .dataframe tbody tr th:only-of-type {\n",
              "        vertical-align: middle;\n",
              "    }\n",
              "\n",
              "    .dataframe tbody tr th {\n",
              "        vertical-align: top;\n",
              "    }\n",
              "\n",
              "    .dataframe thead th {\n",
              "        text-align: right;\n",
              "    }\n",
              "</style>\n",
              "<table border=\"1\" class=\"dataframe\">\n",
              "  <thead>\n",
              "    <tr style=\"text-align: right;\">\n",
              "      <th></th>\n",
              "      <th>tweets</th>\n",
              "      <th>sentiment</th>\n",
              "      <th>word_count</th>\n",
              "      <th>char_count</th>\n",
              "      <th>avg_word_count</th>\n",
              "      <th>stop_word_count</th>\n",
              "      <th>hashtag_count</th>\n",
              "      <th>mention_count</th>\n",
              "      <th>numeric_digit_count</th>\n",
              "      <th>upper_case_count</th>\n",
              "      <th>cont_to_exp</th>\n",
              "      <th>emails</th>\n",
              "      <th>email_count</th>\n",
              "      <th>url_finding</th>\n",
              "      <th>url_count</th>\n",
              "    </tr>\n",
              "  </thead>\n",
              "  <tbody>\n",
              "    <tr>\n",
              "      <th>0</th>\n",
              "      <td>is bored and wants to watch a movie any sugges...</td>\n",
              "      <td>0</td>\n",
              "      <td>10</td>\n",
              "      <td>43</td>\n",
              "      <td>4.300000</td>\n",
              "      <td>5</td>\n",
              "      <td>0</td>\n",
              "      <td>0</td>\n",
              "      <td>0</td>\n",
              "      <td>0</td>\n",
              "      <td>is bored and wants to watch a movie  any sugge...</td>\n",
              "      <td>[]</td>\n",
              "      <td>0</td>\n",
              "      <td>[]</td>\n",
              "      <td>0</td>\n",
              "    </tr>\n",
              "    <tr>\n",
              "      <th>1</th>\n",
              "      <td>back in miami waiting to unboard ship</td>\n",
              "      <td>0</td>\n",
              "      <td>7</td>\n",
              "      <td>32</td>\n",
              "      <td>4.571429</td>\n",
              "      <td>3</td>\n",
              "      <td>0</td>\n",
              "      <td>0</td>\n",
              "      <td>0</td>\n",
              "      <td>0</td>\n",
              "      <td>back in miami.  waiting to unboard ship</td>\n",
              "      <td>[]</td>\n",
              "      <td>0</td>\n",
              "      <td>[]</td>\n",
              "      <td>0</td>\n",
              "    </tr>\n",
              "  </tbody>\n",
              "</table>\n",
              "</div>"
            ],
            "text/plain": [
              "                                              tweets  ...  url_count\n",
              "0  is bored and wants to watch a movie any sugges...  ...          0\n",
              "1              back in miami waiting to unboard ship  ...          0\n",
              "\n",
              "[2 rows x 15 columns]"
            ]
          },
          "metadata": {},
          "execution_count": 269
        }
      ]
    },
    {
      "cell_type": "markdown",
      "metadata": {
        "id": "eM8A_6atQogZ"
      },
      "source": [
        "# remove accented character"
      ]
    },
    {
      "cell_type": "code",
      "metadata": {
        "id": "aYgC9FaTQh7O"
      },
      "source": [
        "import unicodedata"
      ],
      "execution_count": 270,
      "outputs": []
    },
    {
      "cell_type": "code",
      "metadata": {
        "id": "qzltoeFGRt1u"
      },
      "source": [
        "def remove_ac_char(x):\n",
        "  return unicodedata.normalize('NFKD',x).encode('ascii','ignore').decode('utf-8','ignore')"
      ],
      "execution_count": 271,
      "outputs": []
    },
    {
      "cell_type": "code",
      "metadata": {
        "id": "OHt2dSH2Sa1T"
      },
      "source": [
        "data['tweets']=data['tweets'].apply(remove_ac_char)"
      ],
      "execution_count": 272,
      "outputs": []
    },
    {
      "cell_type": "markdown",
      "metadata": {
        "id": "g7i2f_qYSsnZ"
      },
      "source": [
        "## stop word removal"
      ]
    },
    {
      "cell_type": "code",
      "metadata": {
        "id": "8H2Lppt4Sht4"
      },
      "source": [
        "a2=\"This is not your job to don't interfere\""
      ],
      "execution_count": 273,
      "outputs": []
    },
    {
      "cell_type": "code",
      "metadata": {
        "colab": {
          "base_uri": "https://localhost:8080/",
          "height": 35
        },
        "id": "ZTkG7xUcTHL3",
        "outputId": "0fdf2c06-568e-4057-921a-6a1bcdd507d7"
      },
      "source": [
        "\" \".join([word for word in a2.split() if word not in stopwords])"
      ],
      "execution_count": 274,
      "outputs": [
        {
          "output_type": "execute_result",
          "data": {
            "application/vnd.google.colaboratory.intrinsic+json": {
              "type": "string"
            },
            "text/plain": [
              "\"This job don't interfere\""
            ]
          },
          "metadata": {},
          "execution_count": 274
        }
      ]
    },
    {
      "cell_type": "code",
      "metadata": {
        "id": "_9P-_emCTPsO"
      },
      "source": [
        "def remove_stop_words(x):\n",
        "   x=\" \".join([word for word in x.split() if word not in stopwords ])\n",
        "   return x"
      ],
      "execution_count": 295,
      "outputs": []
    },
    {
      "cell_type": "code",
      "metadata": {
        "id": "19tsn9mvTbU4"
      },
      "source": [
        "data['tweets']=data[\"tweets\"].apply(remove_stop_words)"
      ],
      "execution_count": 276,
      "outputs": []
    },
    {
      "cell_type": "code",
      "metadata": {
        "colab": {
          "base_uri": "https://localhost:8080/",
          "height": 35
        },
        "id": "yfn_5DDkTker",
        "outputId": "c9111e89-1e34-421c-ebd4-423c0afdbe95"
      },
      "source": [
        "data['tweets'][2]"
      ],
      "execution_count": 277,
      "outputs": [
        {
          "output_type": "execute_result",
          "data": {
            "application/vnd.google.colaboratory.intrinsic+json": {
              "type": "string"
            },
            "text/plain": [
              "'misskpey awwww dnt dis brng bak memoriessss thnk m sad lol'"
            ]
          },
          "metadata": {},
          "execution_count": 277
        }
      ]
    },
    {
      "cell_type": "markdown",
      "metadata": {
        "id": "GcohhdMM4zPv"
      },
      "source": [
        "# converting string into base root form"
      ]
    },
    {
      "cell_type": "code",
      "metadata": {
        "id": "4N7gG222TmdH"
      },
      "source": [
        "import spacy\n",
        "nlp=spacy.load('en_core_web_sm')"
      ],
      "execution_count": 278,
      "outputs": []
    },
    {
      "cell_type": "code",
      "metadata": {
        "id": "1qh6BEvE4j7V"
      },
      "source": [
        "nlp=spacy.load('en_core_web_sm')"
      ],
      "execution_count": 279,
      "outputs": []
    },
    {
      "cell_type": "code",
      "metadata": {
        "id": "zL16uLBy4pzI"
      },
      "source": [
        "def base_root_form(x):\n",
        "  x=str(x)\n",
        "  x_list=[]\n",
        "  doc=nlp(x)\n",
        "  for token in doc:\n",
        "    lemmatized=token.lemma_\n",
        "    if lemmatized=='-PRON-' or lemmatized=='be':\n",
        "      lemmatized=token.text\n",
        "    x_list.append(lemmatized)\n",
        "  return ' '.join(x_list)\n"
      ],
      "execution_count": 280,
      "outputs": []
    },
    {
      "cell_type": "code",
      "metadata": {
        "colab": {
          "base_uri": "https://localhost:8080/",
          "height": 35
        },
        "id": "YrH1mWqy5YYP",
        "outputId": "24457cee-8048-408c-fce2-e1ab5aeb5c65"
      },
      "source": [
        "base_root_form('This chocolates is gooing to be lemmatized and cooling as well cooled')"
      ],
      "execution_count": 281,
      "outputs": [
        {
          "output_type": "execute_result",
          "data": {
            "application/vnd.google.colaboratory.intrinsic+json": {
              "type": "string"
            },
            "text/plain": [
              "'this chocolate is gooe to be lemmatized and cool as well cool'"
            ]
          },
          "metadata": {},
          "execution_count": 281
        }
      ]
    },
    {
      "cell_type": "code",
      "metadata": {
        "id": "wEyxrqan5d6d"
      },
      "source": [
        "data['tweets']=data['tweets'].apply(base_root_form)"
      ],
      "execution_count": 282,
      "outputs": []
    },
    {
      "cell_type": "code",
      "metadata": {
        "colab": {
          "base_uri": "https://localhost:8080/",
          "height": 486
        },
        "id": "IIrrvFeZ6hic",
        "outputId": "85f592f5-a269-41bd-f450-30c882605b17"
      },
      "source": [
        "data.head()"
      ],
      "execution_count": 283,
      "outputs": [
        {
          "output_type": "execute_result",
          "data": {
            "text/html": [
              "<div>\n",
              "<style scoped>\n",
              "    .dataframe tbody tr th:only-of-type {\n",
              "        vertical-align: middle;\n",
              "    }\n",
              "\n",
              "    .dataframe tbody tr th {\n",
              "        vertical-align: top;\n",
              "    }\n",
              "\n",
              "    .dataframe thead th {\n",
              "        text-align: right;\n",
              "    }\n",
              "</style>\n",
              "<table border=\"1\" class=\"dataframe\">\n",
              "  <thead>\n",
              "    <tr style=\"text-align: right;\">\n",
              "      <th></th>\n",
              "      <th>tweets</th>\n",
              "      <th>sentiment</th>\n",
              "      <th>word_count</th>\n",
              "      <th>char_count</th>\n",
              "      <th>avg_word_count</th>\n",
              "      <th>stop_word_count</th>\n",
              "      <th>hashtag_count</th>\n",
              "      <th>mention_count</th>\n",
              "      <th>numeric_digit_count</th>\n",
              "      <th>upper_case_count</th>\n",
              "      <th>cont_to_exp</th>\n",
              "      <th>emails</th>\n",
              "      <th>email_count</th>\n",
              "      <th>url_finding</th>\n",
              "      <th>url_count</th>\n",
              "    </tr>\n",
              "  </thead>\n",
              "  <tbody>\n",
              "    <tr>\n",
              "      <th>0</th>\n",
              "      <td>bored want watch movie suggestion</td>\n",
              "      <td>0</td>\n",
              "      <td>10</td>\n",
              "      <td>43</td>\n",
              "      <td>4.300000</td>\n",
              "      <td>5</td>\n",
              "      <td>0</td>\n",
              "      <td>0</td>\n",
              "      <td>0</td>\n",
              "      <td>0</td>\n",
              "      <td>is bored and wants to watch a movie  any sugge...</td>\n",
              "      <td>[]</td>\n",
              "      <td>0</td>\n",
              "      <td>[]</td>\n",
              "      <td>0</td>\n",
              "    </tr>\n",
              "    <tr>\n",
              "      <th>1</th>\n",
              "      <td>miami wait unboard ship</td>\n",
              "      <td>0</td>\n",
              "      <td>7</td>\n",
              "      <td>32</td>\n",
              "      <td>4.571429</td>\n",
              "      <td>3</td>\n",
              "      <td>0</td>\n",
              "      <td>0</td>\n",
              "      <td>0</td>\n",
              "      <td>0</td>\n",
              "      <td>back in miami.  waiting to unboard ship</td>\n",
              "      <td>[]</td>\n",
              "      <td>0</td>\n",
              "      <td>[]</td>\n",
              "      <td>0</td>\n",
              "    </tr>\n",
              "    <tr>\n",
              "      <th>2</th>\n",
              "      <td>misskpey awwww dnt dis brng bak memoriessss th...</td>\n",
              "      <td>0</td>\n",
              "      <td>12</td>\n",
              "      <td>54</td>\n",
              "      <td>4.500000</td>\n",
              "      <td>0</td>\n",
              "      <td>0</td>\n",
              "      <td>1</td>\n",
              "      <td>0</td>\n",
              "      <td>1</td>\n",
              "      <td>@misskpey awwww dnt dis brng bak memoriessss, ...</td>\n",
              "      <td>[]</td>\n",
              "      <td>0</td>\n",
              "      <td>[]</td>\n",
              "      <td>0</td>\n",
              "    </tr>\n",
              "    <tr>\n",
              "      <th>3</th>\n",
              "      <td>ughhh tired blahhhhhhhhh</td>\n",
              "      <td>0</td>\n",
              "      <td>6</td>\n",
              "      <td>27</td>\n",
              "      <td>4.500000</td>\n",
              "      <td>3</td>\n",
              "      <td>0</td>\n",
              "      <td>0</td>\n",
              "      <td>0</td>\n",
              "      <td>0</td>\n",
              "      <td>ughhh i am so tired  blahhhhhhhhh</td>\n",
              "      <td>[]</td>\n",
              "      <td>0</td>\n",
              "      <td>[]</td>\n",
              "      <td>0</td>\n",
              "    </tr>\n",
              "    <tr>\n",
              "      <th>4</th>\n",
              "      <td>mandagoforth bad s funny zachary quinto amp re...</td>\n",
              "      <td>0</td>\n",
              "      <td>26</td>\n",
              "      <td>116</td>\n",
              "      <td>4.461538</td>\n",
              "      <td>12</td>\n",
              "      <td>0</td>\n",
              "      <td>2</td>\n",
              "      <td>0</td>\n",
              "      <td>0</td>\n",
              "      <td>@mandagoforth me bad! it's funny though. zacha...</td>\n",
              "      <td>[]</td>\n",
              "      <td>0</td>\n",
              "      <td>[]</td>\n",
              "      <td>0</td>\n",
              "    </tr>\n",
              "  </tbody>\n",
              "</table>\n",
              "</div>"
            ],
            "text/plain": [
              "                                              tweets  ...  url_count\n",
              "0                  bored want watch movie suggestion  ...          0\n",
              "1                            miami wait unboard ship  ...          0\n",
              "2  misskpey awwww dnt dis brng bak memoriessss th...  ...          0\n",
              "3                           ughhh tired blahhhhhhhhh  ...          0\n",
              "4  mandagoforth bad s funny zachary quinto amp re...  ...          0\n",
              "\n",
              "[5 rows x 15 columns]"
            ]
          },
          "metadata": {},
          "execution_count": 283
        }
      ]
    },
    {
      "cell_type": "markdown",
      "metadata": {
        "id": "6GR0Z9VI6yxS"
      },
      "source": [
        "## common words removal and rare word removal from data"
      ]
    },
    {
      "cell_type": "code",
      "metadata": {
        "colab": {
          "base_uri": "https://localhost:8080/"
        },
        "id": "HLFNnvqZ6tIO",
        "outputId": "1d79b71b-f929-4727-d6a5-d302b5c452bb"
      },
      "source": [
        "data['tweets']"
      ],
      "execution_count": 284,
      "outputs": [
        {
          "output_type": "execute_result",
          "data": {
            "text/plain": [
              "0                       bored want watch movie suggestion\n",
              "1                                 miami wait unboard ship\n",
              "2       misskpey awwww dnt dis brng bak memoriessss th...\n",
              "3                                ughhh tired blahhhhhhhhh\n",
              "4       mandagoforth bad s funny zachary quinto amp re...\n",
              "                              ...                        \n",
              "3995                                             graduate\n",
              "3996                                      templating work\n",
              "3997                                 mommy bring starbuck\n",
              "3998                        omarepps watch house run love\n",
              "3999               thank try smile will 18th special hope\n",
              "Name: tweets, Length: 4000, dtype: object"
            ]
          },
          "metadata": {},
          "execution_count": 284
        }
      ]
    },
    {
      "cell_type": "code",
      "metadata": {
        "id": "thN90D9j7gOt"
      },
      "source": [
        "#converting all those word into text so that we can get most common word count out of them\n",
        "x=' '.join(data['tweets'])"
      ],
      "execution_count": 285,
      "outputs": []
    },
    {
      "cell_type": "code",
      "metadata": {
        "colab": {
          "base_uri": "https://localhost:8080/"
        },
        "id": "EzJkJLr37wgC",
        "outputId": "8f987731-6570-40e0-9875-9e50e6e5d321"
      },
      "source": [
        "x_split=x.split()\n",
        "x_split"
      ],
      "execution_count": 286,
      "outputs": [
        {
          "output_type": "execute_result",
          "data": {
            "text/plain": [
              "['bored',\n",
              " 'want',\n",
              " 'watch',\n",
              " 'movie',\n",
              " 'suggestion',\n",
              " 'miami',\n",
              " 'wait',\n",
              " 'unboard',\n",
              " 'ship',\n",
              " 'misskpey',\n",
              " 'awwww',\n",
              " 'dnt',\n",
              " 'dis',\n",
              " 'brng',\n",
              " 'bak',\n",
              " 'memoriessss',\n",
              " 'thnk',\n",
              " 'm',\n",
              " 'sad',\n",
              " 'lol',\n",
              " 'ughhh',\n",
              " 'tired',\n",
              " 'blahhhhhhhhh',\n",
              " 'mandagoforth',\n",
              " 'bad',\n",
              " 's',\n",
              " 'funny',\n",
              " 'zachary',\n",
              " 'quinto',\n",
              " 'amp',\n",
              " 'reply',\n",
              " 'symbol',\n",
              " 'brr',\n",
              " 'm',\n",
              " 'cold',\n",
              " 'moment',\n",
              " 'assignment',\n",
              " 'huntington',\n",
              " 's',\n",
              " 'disease',\n",
              " 'depressing',\n",
              " 'kevinmarquis',\n",
              " 'haha',\n",
              " 'yep',\n",
              " 'need',\n",
              " 'sleep',\n",
              " 'feel',\n",
              " 'like',\n",
              " 'crap',\n",
              " 'lol',\n",
              " 'can',\n",
              " 'not',\n",
              " 'sleep',\n",
              " 's',\n",
              " 'away',\n",
              " 'god',\n",
              " 'm',\n",
              " 'pathetic',\n",
              " 'eat',\n",
              " 'ice',\n",
              " 'cream',\n",
              " 'try',\n",
              " 'peterfacinelli',\n",
              " 's',\n",
              " 'follower',\n",
              " 'numbre',\n",
              " 'raise',\n",
              " 'work',\n",
              " 'sadly',\n",
              " 'phatty84',\n",
              " 'hella',\n",
              " 'bore',\n",
              " 'work',\n",
              " 'lol',\n",
              " 'food',\n",
              " 'poisoning',\n",
              " 'blowssss',\n",
              " 'stacig',\n",
              " 'send',\n",
              " 'home',\n",
              " 'good',\n",
              " 'guy',\n",
              " 'm',\n",
              " 'shika',\n",
              " 'yeah',\n",
              " 'try',\n",
              " 'recover',\n",
              " 'guess',\n",
              " 'time',\n",
              " 'retire',\n",
              " 'hardware',\n",
              " 't',\n",
              " 'fall',\n",
              " 'asleep',\n",
              " 'padre',\n",
              " 'come',\n",
              " '6',\n",
              " '0',\n",
              " 'amp',\n",
              " 'lose',\n",
              " 'breaking',\n",
              " 'streak',\n",
              " 'love',\n",
              " 'padre',\n",
              " 'tho',\n",
              " 'awe',\n",
              " 'shiiiiiiiiiiiit',\n",
              " 'chente',\n",
              " 'get',\n",
              " 'dem',\n",
              " 'killahzzzz',\n",
              " 'sfannah',\n",
              " 'ahhhhh',\n",
              " 'm',\n",
              " 'brianqu',\n",
              " '1',\n",
              " 'fo',\n",
              " 'u',\n",
              " '2',\n",
              " 'try',\n",
              " 'kinda',\n",
              " 'ugly',\n",
              " 'cuz',\n",
              " 'could',\n",
              " 'not',\n",
              " 'find',\n",
              " 'pic',\n",
              " 'mhm',\n",
              " 'oh',\n",
              " 'bring',\n",
              " 'hendrick',\n",
              " 's',\n",
              " 'vancouver',\n",
              " 's',\n",
              " 'leave',\n",
              " 'cause',\n",
              " 'didn',\n",
              " 't',\n",
              " 'want',\n",
              " 'try',\n",
              " 'track',\n",
              " 'xp',\n",
              " 'garethemery',\n",
              " 'gareth',\n",
              " 'tune',\n",
              " 'broadcast',\n",
              " 'main',\n",
              " 'stage',\n",
              " 'kinda',\n",
              " 'suck',\n",
              " 'will',\n",
              " 'not',\n",
              " 'listen',\n",
              " 'u',\n",
              " 'kimberleymtkg',\n",
              " 'hey',\n",
              " 'travel',\n",
              " 'town',\n",
              " 'mid',\n",
              " 'week',\n",
              " 'miss',\n",
              " 'daniesass',\n",
              " 'idk',\n",
              " 'happen',\n",
              " 'accidentaly',\n",
              " 'stop',\n",
              " 'follow',\n",
              " 'hip',\n",
              " 'niggly',\n",
              " 'today',\n",
              " 'boo',\n",
              " 'couldn',\n",
              " 't',\n",
              " 'train',\n",
              " 'plan',\n",
              " '15',\n",
              " 'day',\n",
              " 'til',\n",
              " 'race',\n",
              " 'life',\n",
              " 'eeek',\n",
              " 'ut',\n",
              " 'oh',\n",
              " 'wonder',\n",
              " 'ram',\n",
              " 'desktop',\n",
              " 'start',\n",
              " 'hungrydomaine',\n",
              " 'say',\n",
              " 'quot',\n",
              " 'mermaid',\n",
              " 'dinner',\n",
              " 'quot',\n",
              " 'unsuccessfully',\n",
              " 'witty',\n",
              " 'eeeeep',\n",
              " 'new',\n",
              " 'moon',\n",
              " '172',\n",
              " 'day',\n",
              " 'away',\n",
              " 'actually',\n",
              " 'age',\n",
              " 'missin',\n",
              " 'wifeyy',\n",
              " 'like',\n",
              " 'tommcfly',\n",
              " 'shoe',\n",
              " 'lose',\n",
              " 'bank',\n",
              " 'statement',\n",
              " 'beach',\n",
              " 'iti',\n",
              " '12',\n",
              " 'long',\n",
              " 'time',\n",
              " '12shvizut',\n",
              " 'yom',\n",
              " 'alefi',\n",
              " '12',\n",
              " 'welli',\n",
              " '12at',\n",
              " 'shirshor',\n",
              " 'way',\n",
              " 'visit',\n",
              " 'hummm',\n",
              " 'goodnight',\n",
              " 'twitter',\n",
              " 'end',\n",
              " 'upset',\n",
              " 'state',\n",
              " 'shit',\n",
              " 'mister',\n",
              " 'gembul',\n",
              " 'oh',\n",
              " 'stole',\n",
              " 'handphone',\n",
              " 'wish',\n",
              " 'tomorrow',\n",
              " 'easy',\n",
              " 'today',\n",
              " 'come',\n",
              " 'red',\n",
              " 'day',\n",
              " 'exhausted',\n",
              " 'wah',\n",
              " 'miss',\n",
              " 'rollin',\n",
              " 'prince',\n",
              " 'ave',\n",
              " 'hear',\n",
              " 'siren',\n",
              " 'look',\n",
              " 'see',\n",
              " 'lot',\n",
              " 'smoke',\n",
              " 'jchamanes',\n",
              " 'm',\n",
              " 'sir',\n",
              " 'geography',\n",
              " 'gcse',\n",
              " 'tuesday',\n",
              " 'couldn',\n",
              " 't',\n",
              " 'scaredddd',\n",
              " 'seriously',\n",
              " 'know',\n",
              " 'm',\n",
              " 'gunna',\n",
              " 'fail',\n",
              " 'don',\n",
              " 't',\n",
              " 'want',\n",
              " 'study',\n",
              " 'clean',\n",
              " 'grocery',\n",
              " 'shopping',\n",
              " 'whilst',\n",
              " 'hungover',\n",
              " 'fun',\n",
              " 'day',\n",
              " 'internet',\n",
              " 'luckily',\n",
              " 'watch',\n",
              " 'game',\n",
              " 'sorry',\n",
              " 'dm',\n",
              " 't',\n",
              " 'answer',\n",
              " 'ah',\n",
              " 'suddenly',\n",
              " 'feel',\n",
              " 'bitter',\n",
              " 'medicine',\n",
              " 'bored',\n",
              " 'work',\n",
              " 'don',\n",
              " 't',\n",
              " 'outta',\n",
              " 'til',\n",
              " '5',\n",
              " 'p.m.',\n",
              " 'bleh',\n",
              " 'brewery',\n",
              " 'tonight',\n",
              " 'girl',\n",
              " 'wish',\n",
              " 'kristy',\n",
              " 'want',\n",
              " 'transformer',\n",
              " 'tonight',\n",
              " 'don',\n",
              " 't',\n",
              " 'want',\n",
              " 'bugbite',\n",
              " 'andrewhuntre',\n",
              " 'look',\n",
              " 'industry',\n",
              " 'look',\n",
              " 'funny',\n",
              " 'clever',\n",
              " 'review',\n",
              " 'liken',\n",
              " 'newsroom',\n",
              " 'love',\n",
              " 'discontinue',\n",
              " 'tho',\n",
              " 'do',\n",
              " 'not',\n",
              " 'fucked',\n",
              " 'time',\n",
              " 'moron',\n",
              " 'fuck',\n",
              " 'life',\n",
              " 'man',\n",
              " 'should',\n",
              " 'have',\n",
              " 'go',\n",
              " 'cruise',\n",
              " 'hell',\n",
              " 'think',\n",
              " 'come',\n",
              " 'home',\n",
              " 'm',\n",
              " 'bored',\n",
              " 'hi',\n",
              " 'matthew',\n",
              " 'r',\n",
              " 'u',\n",
              " 'sweet',\n",
              " 'miss',\n",
              " 'baby',\n",
              " 'tell',\n",
              " 'sonjacassella',\n",
              " 'get',\n",
              " 'help',\n",
              " 'brother',\n",
              " 'amp',\n",
              " 'parent',\n",
              " 'morning',\n",
              " 'way',\n",
              " 'darenotspeak',\n",
              " 's',\n",
              " 'wrong',\n",
              " 'want',\n",
              " 'talk',\n",
              " 'love',\n",
              " 'nose',\n",
              " 'pierce',\n",
              " 'annoying',\n",
              " 'right',\n",
              " 'hate',\n",
              " 'mamma_j',\n",
              " 'spin',\n",
              " 'fall',\n",
              " 'gen215',\n",
              " 'rofl',\n",
              " 'follow',\n",
              " 'jesus',\n",
              " 'find',\n",
              " '1',\n",
              " 'th',\n",
              " 'othr',\n",
              " 'day',\n",
              " 'nothing',\n",
              " '2',\n",
              " 'w',\n",
              " 'god',\n",
              " 'jst',\n",
              " '2',\n",
              " 'traffic',\n",
              " '4give',\n",
              " 'know',\n",
              " 'j_kmrprez',\n",
              " 'yeah',\n",
              " 'want',\n",
              " 'able',\n",
              " 'year',\n",
              " 'quot',\n",
              " 'haemoglobin',\n",
              " '_',\n",
              " 'stedic',\n",
              " 'work',\n",
              " 'saturday',\n",
              " 'nope',\n",
              " 'm',\n",
              " 'work',\n",
              " 'today',\n",
              " 'battlefield',\n",
              " 'heroes',\n",
              " 'beta',\n",
              " 'site',\n",
              " 'wake',\n",
              " 'go',\n",
              " 'workout',\n",
              " 'm',\n",
              " 'sore',\n",
              " 'thursday',\n",
              " 'paulmccourt',\n",
              " 'dunno',\n",
              " 'sky',\n",
              " 'look',\n",
              " 'load',\n",
              " 'cloud',\n",
              " 'amp',\n",
              " 'brisk',\n",
              " 'wind',\n",
              " 'greenisland',\n",
              " 'twilightofdoom',\n",
              " 'nice',\n",
              " 'have',\n",
              " 'not',\n",
              " 'see',\n",
              " 'movie',\n",
              " 'tho',\n",
              " 'krazy_freak495',\n",
              " 'how',\n",
              " 's',\n",
              " 'guitar',\n",
              " 'hero',\n",
              " 'lol',\n",
              " 'matts',\n",
              " 'go',\n",
              " 'idk',\n",
              " 'do',\n",
              " 'not',\n",
              " 'anythign',\n",
              " 'do',\n",
              " 'not',\n",
              " 'think',\n",
              " 'lol',\n",
              " 'xxbrry',\n",
              " 'yes',\n",
              " 'spell',\n",
              " 'obituary',\n",
              " 'sound',\n",
              " 'sad',\n",
              " 'idea',\n",
              " 'old',\n",
              " 'die',\n",
              " 'read',\n",
              " 'like',\n",
              " '10',\n",
              " 'year',\n",
              " 'ago',\n",
              " 'xxxx',\n",
              " 'brianrubin',\n",
              " 'lomara',\n",
              " 'sorry',\n",
              " 'headache',\n",
              " 'kankzxd',\n",
              " 'jealous',\n",
              " 'love',\n",
              " 'man',\n",
              " 'miss',\n",
              " 'time',\n",
              " 'come',\n",
              " 'tassie',\n",
              " 'help',\n",
              " 'mommy',\n",
              " 'pack',\n",
              " 's',\n",
              " 'leaving',\n",
              " 'mexico',\n",
              " 'saturday',\n",
              " 'anthothemantho',\n",
              " 'hahaha',\n",
              " 'agree',\n",
              " 'cry',\n",
              " 'like',\n",
              " 'baby',\n",
              " 'split',\n",
              " 'brother',\n",
              " 'ha',\n",
              " 'antonwheel',\n",
              " 'see',\n",
              " 'bee',\n",
              " 'oh',\n",
              " 'bee',\n",
              " 'hanaame',\n",
              " 'd',\n",
              " 'like',\n",
              " 'lazy',\n",
              " 'make',\n",
              " 'wake',\n",
              " '7',\n",
              " 'a.m.',\n",
              " 'afternoon',\n",
              " 'week',\n",
              " 'job',\n",
              " 'hafta',\n",
              " 'food',\n",
              " 'ready',\n",
              " 'work',\n",
              " 'bye',\n",
              " 'orla_x',\n",
              " 'apparently',\n",
              " 'cat',\n",
              " 'vinyl',\n",
              " 'play',\n",
              " 'lord',\n",
              " 'don',\n",
              " 't',\n",
              " 'let',\n",
              " 'guy',\n",
              " 'sit',\n",
              " 'get',\n",
              " 'hi',\n",
              " 'heel',\n",
              " 'boot',\n",
              " 'scarf',\n",
              " 'long',\n",
              " 'nail',\n",
              " 'ashy',\n",
              " 'hand',\n",
              " 'wish',\n",
              " 'dc',\n",
              " 'bastante_p',\n",
              " 'atl',\n",
              " 'sigh',\n",
              " 'get',\n",
              " 'heat',\n",
              " 'rash',\n",
              " 'foot',\n",
              " 'incapable',\n",
              " 'walk',\n",
              " 'damn',\n",
              " 'weather',\n",
              " 'probably',\n",
              " 'person',\n",
              " 'englang',\n",
              " 'thinking',\n",
              " 'i',\n",
              " 'm',\n",
              " 'home',\n",
              " 'belfast',\n",
              " 'i',\n",
              " 'm',\n",
              " 'realli',\n",
              " 'tired',\n",
              " 'upset',\n",
              " 'ai',\n",
              " 'not',\n",
              " 'go',\n",
              " 'jls',\n",
              " 'summertime',\n",
              " 'ball',\n",
              " 'x',\n",
              " 'oh',\n",
              " 'lens',\n",
              " 'phone',\n",
              " 'do',\n",
              " 'not',\n",
              " 'die',\n",
              " 'know',\n",
              " 'what',\n",
              " 's',\n",
              " 'go',\n",
              " 'parade',\n",
              " 'catshatemangos',\n",
              " 'ah',\n",
              " 'rubbish',\n",
              " 'leave',\n",
              " '12th',\n",
              " 'moisturer',\n",
              " 'today',\n",
              " 'times',\n",
              " 'moisturiser',\n",
              " 'usage',\n",
              " 'combine',\n",
              " 'feel',\n",
              " 'gay',\n",
              " 'get',\n",
              " 'txtz',\n",
              " 'itz',\n",
              " 'cold',\n",
              " 'home',\n",
              " 'dammit',\n",
              " 't',\n",
              " 'find',\n",
              " 'retail',\n",
              " 'outlet',\n",
              " 'round',\n",
              " 'cruzer',\n",
              " 'contour',\n",
              " 'lilmonkee987',\n",
              " 'know',\n",
              " 'mean',\n",
              " 'feel',\n",
              " 'sorta',\n",
              " 'sad',\n",
              " 'peterfacinelli',\n",
              " 'hey',\n",
              " 'peter',\n",
              " 'wonder',\n",
              " 'nurse',\n",
              " 'jackie',\n",
              " 'air',\n",
              " 'like',\n",
              " 'set',\n",
              " 'dvr',\n",
              " 'tape',\n",
              " 'iphone',\n",
              " 'marcusjrobert',\n",
              " 'work',\n",
              " 'sunday',\n",
              " 'suck',\n",
              " 'don',\n",
              " 't',\n",
              " 'work',\n",
              " 'hard',\n",
              " 'noxertg',\n",
              " 'see',\n",
              " 'wolverine',\n",
              " 'workprint',\n",
              " 'think',\n",
              " 'movie',\n",
              " 'general',\n",
              " 'suck',\n",
              " 'go',\n",
              " 'london',\n",
              " 'aquarium',\n",
              " 'today',\n",
              " 'go',\n",
              " 'to',\n",
              " 'hot',\n",
              " 'm',\n",
              " 'heartbroken',\n",
              " 'grandfather',\n",
              " 'pass',\n",
              " 'away',\n",
              " 'yesterday',\n",
              " 'morning',\n",
              " '3',\n",
              " '30',\n",
              " 'miss',\n",
              " 'love',\n",
              " 'grandpa',\n",
              " 'tomorrow',\n",
              " 'day',\n",
              " 'school',\n",
              " 'tar',\n",
              " 'goodbyes',\n",
              " 'memory',\n",
              " 'eurgh',\n",
              " 'throat',\n",
              " 'dry',\n",
              " 'want',\n",
              " 'drink',\n",
              " 'beautifoul',\n",
              " 'm',\n",
              " 'afraid',\n",
              " 'win',\n",
              " 't',\n",
              " 'chance',\n",
              " 'm',\n",
              " 'move',\n",
              " 'kansas',\n",
              " 'tuesday',\n",
              " 'summer',\n",
              " 'schoolzzzz',\n",
              " 'picture',\n",
              " 'isn',\n",
              " 't',\n",
              " 'show',\n",
              " 'twitter',\n",
              " 'hmmmmm',\n",
              " 'tracy_nyc',\n",
              " 'm',\n",
              " 'go',\n",
              " 'to',\n",
              " 'guess',\n",
              " 'amp',\n",
              " 'final',\n",
              " 'read',\n",
              " 'wikipedia',\n",
              " 'amp',\n",
              " 'assumed',\n",
              " 'know',\n",
              " 'amp',\n",
              " 'tell',\n",
              " 'sad',\n",
              " 'kali_roll',\n",
              " 'miss',\n",
              " 'ringback',\n",
              " 'tone',\n",
              " 'automatic',\n",
              " 'vm',\n",
              " 'lol',\n",
              " 'any1',\n",
              " 'spousal',\n",
              " 'abuse',\n",
              " 'number',\n",
              " 'get',\n",
              " 'hit',\n",
              " 'tweet',\n",
              " 'lmao',\n",
              " 'feel',\n",
              " 'great',\n",
              " 'time',\n",
              " 'tweet',\n",
              " 'pity',\n",
              " 'party',\n",
              " 'understand',\n",
              " 'think',\n",
              " 'm',\n",
              " 'start',\n",
              " 'sick',\n",
              " 'piglet',\n",
              " 'flu',\n",
              " 'don',\n",
              " 't',\n",
              " 'twitter',\n",
              " 'thing',\n",
              " 'm',\n",
              " 'challenge',\n",
              " 'head',\n",
              " 'work',\n",
              " 'blondeblogger',\n",
              " 'm',\n",
              " 'sad',\n",
              " 'blurry',\n",
              " 'take',\n",
              " 'boy',\n",
              " 'fishing',\n",
              " 'luck',\n",
              " 'far',\n",
              " 'wonder',\n",
              " 's',\n",
              " 'quot',\n",
              " 'crop',\n",
              " 'circle',\n",
              " 'virus',\n",
              " 'quot',\n",
              " 'send',\n",
              " 'partners',\n",
              " 'farm',\n",
              " 'coz',\n",
              " 'spend',\n",
              " 'time',\n",
              " 'farmtown',\n",
              " 'im_queen',\n",
              " 'twitterberry',\n",
              " 'miss',\n",
              " 'whatchu',\n",
              " 'do',\n",
              " 'imtalia',\n",
              " 'school',\n",
              " 'idk',\n",
              " 'school',\n",
              " 'heap',\n",
              " 'h',\n",
              " 'w',\n",
              " 'hav',\n",
              " 'u',\n",
              " 'got',\n",
              " 'ur',\n",
              " 'yearlys',\n",
              " 'come',\n",
              " 'xox',\n",
              " 'hello',\n",
              " 'new',\n",
              " 'anipals',\n",
              " 'i',\n",
              " 'm',\n",
              " 'feel',\n",
              " 'best',\n",
              " 'swollen',\n",
              " 'lip',\n",
              " 'better',\n",
              " 'soon',\n",
              " 'beeyawnkuhh',\n",
              " 'happy',\n",
              " 'berfday',\n",
              " 'sorry',\n",
              " 'tell',\n",
              " 'sooner',\n",
              " 'art',\n",
              " 'watch',\n",
              " 'season',\n",
              " '6',\n",
              " 'family',\n",
              " 'guy',\n",
              " 'sun',\n",
              " 'curl',\n",
              " 'hair',\n",
              " 'rain',\n",
              " 'hell',\n",
              " 'go',\n",
              " 'nkotb',\n",
              " 'come',\n",
              " 'australia',\n",
              " 'dopediva',\n",
              " 'lolll',\n",
              " 'think',\n",
              " '2',\n",
              " 'good',\n",
              " 'follower',\n",
              " 'leave',\n",
              " 'yest',\n",
              " 'oh',\n",
              " 'lol',\n",
              " 'kon',\n",
              " 'theyr',\n",
              " 'gettin',\n",
              " 'in2',\n",
              " 'follow',\n",
              " 'robbywat',\n",
              " 'minute',\n",
              " 'thought',\n",
              " 'say',\n",
              " 'quot',\n",
              " 'maggie',\n",
              " 'extra',\n",
              " 'eye',\n",
              " 'grow',\n",
              " 'quot',\n",
              " 'yep',\n",
              " 'm',\n",
              " 'space',\n",
              " 'cadet',\n",
              " 'sorry',\n",
              " 'sweet',\n",
              " 'girl',\n",
              " 'nkairplay',\n",
              " 'get',\n",
              " 'reply',\n",
              " 'fish',\n",
              " 'lt',\n",
              " '3',\n",
              " 'yay',\n",
              " 'band',\n",
              " 'member',\n",
              " 'unlike',\n",
              " 'reply',\n",
              " 'guy',\n",
              " 'run',\n",
              " 'joe',\n",
              " 'mac',\n",
              " 'think',\n",
              " 'spend',\n",
              " 'british',\n",
              " 'sun',\n",
              " 'coz',\n",
              " 'get',\n",
              " 'lovely',\n",
              " 'day',\n",
              " 'feel',\n",
              " 'bit',\n",
              " 'saralime',\n",
              " 'party',\n",
              " 'party',\n",
              " 'work',\n",
              " 'til',\n",
              " '8',\n",
              " 'pm',\n",
              " 'tonight',\n",
              " 'jsong77',\n",
              " 's',\n",
              " '2',\n",
              " 'youtbe',\n",
              " 'better',\n",
              " 'start',\n",
              " 'act',\n",
              " 'normaal',\n",
              " 'time',\n",
              " 'read',\n",
              " 'legal',\n",
              " 'doc',\n",
              " 'twitter',\n",
              " 'win',\n",
              " 't',\n",
              " 'allow',\n",
              " 'change',\n",
              " 'photo',\n",
              " 'that',\n",
              " 's',\n",
              " 'go',\n",
              " 'break',\n",
              " 'get',\n",
              " '9000',\n",
              " 'eror',\n",
              " 'm',\n",
              " 'wait',\n",
              " 'girl',\n",
              " 'bk',\n",
              " 'fly',\n",
              " 's',\n",
              " '2moz',\n",
              " 'win',\n",
              " 't',\n",
              " '2',\n",
              " 'month',\n",
              " 'get',\n",
              " 'unsaid',\n",
              " 'thing',\n",
              " 'wanna',\n",
              " 'megpoynter',\n",
              " 'misss',\n",
              " 'youuu',\n",
              " 'i',\n",
              " 'm',\n",
              " 'going',\n",
              " 'to',\n",
              " 'tomrrowww',\n",
              " 'l',\n",
              " 'awwwww',\n",
              " 'wish',\n",
              " 'britney',\n",
              " 'spear',\n",
              " 'follow',\n",
              " 'twiter',\n",
              " 'heyyobecky',\n",
              " 'miss',\n",
              " 'dress',\n",
              " 'fun',\n",
              " 'outfit',\n",
              " 'publicemileno1',\n",
              " 'know',\n",
              " 'epic',\n",
              " 'kathimcfly',\n",
              " 'yep',\n",
              " 'good',\n",
              " 'friend',\n",
              " 'dd',\n",
              " 'melli',\n",
              " 'amp',\n",
              " 'katie',\n",
              " 's',\n",
              " 'awesome',\n",
              " 'hehe',\n",
              " 'fuck',\n",
              " 'rafa',\n",
              " 'break',\n",
              " 'serve',\n",
              " 'set',\n",
              " 'masterawesome',\n",
              " '23',\n",
              " '24',\n",
              " 'i',\n",
              " 'm',\n",
              " 'old',\n",
              " 'lady',\n",
              " 'couldn',\n",
              " 't',\n",
              " 'moving',\n",
              " 'morning',\n",
              " 'working',\n",
              " 'sun',\n",
              " 'everyday',\n",
              " 'get',\n",
              " 'totally',\n",
              " 'shock',\n",
              " 'death',\n",
              " 'good',\n",
              " 'mate',\n",
              " 'm',\n",
              " 'stressing',\n",
              " 'tommcfly',\n",
              " 'respond',\n",
              " 'tummy',\n",
              " 'painnnn',\n",
              " 'boo',\n",
              " 'suck',\n",
              " 'madout1',\n",
              " 'woooooooow',\n",
              " 'nd',\n",
              " 'wasn',\n",
              " 't',\n",
              " 'tear',\n",
              " 'gray',\n",
              " 's',\n",
              " 'anatomy',\n",
              " 'season',\n",
              " 'finale',\n",
              " 'short',\n",
              " 'circuit',\n",
              " 'psyche',\n",
              " 'power',\n",
              " 'retreat',\n",
              " ...]"
            ]
          },
          "metadata": {},
          "execution_count": 286
        }
      ]
    },
    {
      "cell_type": "code",
      "metadata": {
        "id": "ciumZ2aL7xJX"
      },
      "source": [
        "freq_occuring_words=pd.Series(x_split).value_counts()"
      ],
      "execution_count": 287,
      "outputs": []
    },
    {
      "cell_type": "code",
      "metadata": {
        "colab": {
          "base_uri": "https://localhost:8080/"
        },
        "id": "vasxI0QE73ka",
        "outputId": "1071f83f-dcfb-4878-b6a9-f151c798e92d"
      },
      "source": [
        "top20=freq_occuring_words[:20]\n",
        "top20"
      ],
      "execution_count": 288,
      "outputs": [
        {
          "output_type": "execute_result",
          "data": {
            "text/plain": [
              "s        522\n",
              "m        494\n",
              "t        479\n",
              "go       280\n",
              "day      273\n",
              "get      245\n",
              "good     241\n",
              "work     205\n",
              "love     205\n",
              "like     200\n",
              "today    191\n",
              "quot     163\n",
              "lol      159\n",
              "not      159\n",
              "time     157\n",
              "u        156\n",
              "amp      152\n",
              "think    146\n",
              "miss     144\n",
              "want     143\n",
              "dtype: int64"
            ]
          },
          "metadata": {},
          "execution_count": 288
        }
      ]
    },
    {
      "cell_type": "code",
      "metadata": {
        "id": "6n6s5MiD9-db"
      },
      "source": [
        "data['tweets']=data['tweets'].apply(lambda x:' '.join([text for text in x.split() if text not in top20]))"
      ],
      "execution_count": 289,
      "outputs": []
    },
    {
      "cell_type": "code",
      "metadata": {
        "colab": {
          "base_uri": "https://localhost:8080/",
          "height": 486
        },
        "id": "5Mdlt3ic-xLU",
        "outputId": "5f16d2aa-ea2a-4a60-ab2c-09b5a4b8719a"
      },
      "source": [
        "data.head()"
      ],
      "execution_count": 290,
      "outputs": [
        {
          "output_type": "execute_result",
          "data": {
            "text/html": [
              "<div>\n",
              "<style scoped>\n",
              "    .dataframe tbody tr th:only-of-type {\n",
              "        vertical-align: middle;\n",
              "    }\n",
              "\n",
              "    .dataframe tbody tr th {\n",
              "        vertical-align: top;\n",
              "    }\n",
              "\n",
              "    .dataframe thead th {\n",
              "        text-align: right;\n",
              "    }\n",
              "</style>\n",
              "<table border=\"1\" class=\"dataframe\">\n",
              "  <thead>\n",
              "    <tr style=\"text-align: right;\">\n",
              "      <th></th>\n",
              "      <th>tweets</th>\n",
              "      <th>sentiment</th>\n",
              "      <th>word_count</th>\n",
              "      <th>char_count</th>\n",
              "      <th>avg_word_count</th>\n",
              "      <th>stop_word_count</th>\n",
              "      <th>hashtag_count</th>\n",
              "      <th>mention_count</th>\n",
              "      <th>numeric_digit_count</th>\n",
              "      <th>upper_case_count</th>\n",
              "      <th>cont_to_exp</th>\n",
              "      <th>emails</th>\n",
              "      <th>email_count</th>\n",
              "      <th>url_finding</th>\n",
              "      <th>url_count</th>\n",
              "    </tr>\n",
              "  </thead>\n",
              "  <tbody>\n",
              "    <tr>\n",
              "      <th>0</th>\n",
              "      <td>bored watch movie suggestion</td>\n",
              "      <td>0</td>\n",
              "      <td>10</td>\n",
              "      <td>43</td>\n",
              "      <td>4.300000</td>\n",
              "      <td>5</td>\n",
              "      <td>0</td>\n",
              "      <td>0</td>\n",
              "      <td>0</td>\n",
              "      <td>0</td>\n",
              "      <td>is bored and wants to watch a movie  any sugge...</td>\n",
              "      <td>[]</td>\n",
              "      <td>0</td>\n",
              "      <td>[]</td>\n",
              "      <td>0</td>\n",
              "    </tr>\n",
              "    <tr>\n",
              "      <th>1</th>\n",
              "      <td>miami wait unboard ship</td>\n",
              "      <td>0</td>\n",
              "      <td>7</td>\n",
              "      <td>32</td>\n",
              "      <td>4.571429</td>\n",
              "      <td>3</td>\n",
              "      <td>0</td>\n",
              "      <td>0</td>\n",
              "      <td>0</td>\n",
              "      <td>0</td>\n",
              "      <td>back in miami.  waiting to unboard ship</td>\n",
              "      <td>[]</td>\n",
              "      <td>0</td>\n",
              "      <td>[]</td>\n",
              "      <td>0</td>\n",
              "    </tr>\n",
              "    <tr>\n",
              "      <th>2</th>\n",
              "      <td>misskpey awwww dnt dis brng bak memoriessss th...</td>\n",
              "      <td>0</td>\n",
              "      <td>12</td>\n",
              "      <td>54</td>\n",
              "      <td>4.500000</td>\n",
              "      <td>0</td>\n",
              "      <td>0</td>\n",
              "      <td>1</td>\n",
              "      <td>0</td>\n",
              "      <td>1</td>\n",
              "      <td>@misskpey awwww dnt dis brng bak memoriessss, ...</td>\n",
              "      <td>[]</td>\n",
              "      <td>0</td>\n",
              "      <td>[]</td>\n",
              "      <td>0</td>\n",
              "    </tr>\n",
              "    <tr>\n",
              "      <th>3</th>\n",
              "      <td>ughhh tired blahhhhhhhhh</td>\n",
              "      <td>0</td>\n",
              "      <td>6</td>\n",
              "      <td>27</td>\n",
              "      <td>4.500000</td>\n",
              "      <td>3</td>\n",
              "      <td>0</td>\n",
              "      <td>0</td>\n",
              "      <td>0</td>\n",
              "      <td>0</td>\n",
              "      <td>ughhh i am so tired  blahhhhhhhhh</td>\n",
              "      <td>[]</td>\n",
              "      <td>0</td>\n",
              "      <td>[]</td>\n",
              "      <td>0</td>\n",
              "    </tr>\n",
              "    <tr>\n",
              "      <th>4</th>\n",
              "      <td>mandagoforth bad funny zachary quinto reply sy...</td>\n",
              "      <td>0</td>\n",
              "      <td>26</td>\n",
              "      <td>116</td>\n",
              "      <td>4.461538</td>\n",
              "      <td>12</td>\n",
              "      <td>0</td>\n",
              "      <td>2</td>\n",
              "      <td>0</td>\n",
              "      <td>0</td>\n",
              "      <td>@mandagoforth me bad! it's funny though. zacha...</td>\n",
              "      <td>[]</td>\n",
              "      <td>0</td>\n",
              "      <td>[]</td>\n",
              "      <td>0</td>\n",
              "    </tr>\n",
              "  </tbody>\n",
              "</table>\n",
              "</div>"
            ],
            "text/plain": [
              "                                              tweets  ...  url_count\n",
              "0                       bored watch movie suggestion  ...          0\n",
              "1                            miami wait unboard ship  ...          0\n",
              "2  misskpey awwww dnt dis brng bak memoriessss th...  ...          0\n",
              "3                           ughhh tired blahhhhhhhhh  ...          0\n",
              "4  mandagoforth bad funny zachary quinto reply sy...  ...          0\n",
              "\n",
              "[5 rows x 15 columns]"
            ]
          },
          "metadata": {},
          "execution_count": 290
        }
      ]
    },
    {
      "cell_type": "code",
      "metadata": {
        "id": "WMeFrCvj_SN1"
      },
      "source": [
        "bottom20=freq_occuring_words[-20:]"
      ],
      "execution_count": 291,
      "outputs": []
    },
    {
      "cell_type": "code",
      "metadata": {
        "id": "5TuLceOq_JhA"
      },
      "source": [
        "data['tweets']=data['tweets'].apply(lambda x:' '.join([text for text in x.split() if text not in bottom20]))"
      ],
      "execution_count": 292,
      "outputs": []
    },
    {
      "cell_type": "code",
      "metadata": {
        "colab": {
          "base_uri": "https://localhost:8080/",
          "height": 486
        },
        "id": "mWhnV3QTCkZ6",
        "outputId": "f4b7c77e-71c7-4398-daa6-880a42757108"
      },
      "source": [
        "data.head()"
      ],
      "execution_count": 293,
      "outputs": [
        {
          "output_type": "execute_result",
          "data": {
            "text/html": [
              "<div>\n",
              "<style scoped>\n",
              "    .dataframe tbody tr th:only-of-type {\n",
              "        vertical-align: middle;\n",
              "    }\n",
              "\n",
              "    .dataframe tbody tr th {\n",
              "        vertical-align: top;\n",
              "    }\n",
              "\n",
              "    .dataframe thead th {\n",
              "        text-align: right;\n",
              "    }\n",
              "</style>\n",
              "<table border=\"1\" class=\"dataframe\">\n",
              "  <thead>\n",
              "    <tr style=\"text-align: right;\">\n",
              "      <th></th>\n",
              "      <th>tweets</th>\n",
              "      <th>sentiment</th>\n",
              "      <th>word_count</th>\n",
              "      <th>char_count</th>\n",
              "      <th>avg_word_count</th>\n",
              "      <th>stop_word_count</th>\n",
              "      <th>hashtag_count</th>\n",
              "      <th>mention_count</th>\n",
              "      <th>numeric_digit_count</th>\n",
              "      <th>upper_case_count</th>\n",
              "      <th>cont_to_exp</th>\n",
              "      <th>emails</th>\n",
              "      <th>email_count</th>\n",
              "      <th>url_finding</th>\n",
              "      <th>url_count</th>\n",
              "    </tr>\n",
              "  </thead>\n",
              "  <tbody>\n",
              "    <tr>\n",
              "      <th>0</th>\n",
              "      <td>bored watch movie suggestion</td>\n",
              "      <td>0</td>\n",
              "      <td>10</td>\n",
              "      <td>43</td>\n",
              "      <td>4.300000</td>\n",
              "      <td>5</td>\n",
              "      <td>0</td>\n",
              "      <td>0</td>\n",
              "      <td>0</td>\n",
              "      <td>0</td>\n",
              "      <td>is bored and wants to watch a movie  any sugge...</td>\n",
              "      <td>[]</td>\n",
              "      <td>0</td>\n",
              "      <td>[]</td>\n",
              "      <td>0</td>\n",
              "    </tr>\n",
              "    <tr>\n",
              "      <th>1</th>\n",
              "      <td>miami wait unboard ship</td>\n",
              "      <td>0</td>\n",
              "      <td>7</td>\n",
              "      <td>32</td>\n",
              "      <td>4.571429</td>\n",
              "      <td>3</td>\n",
              "      <td>0</td>\n",
              "      <td>0</td>\n",
              "      <td>0</td>\n",
              "      <td>0</td>\n",
              "      <td>back in miami.  waiting to unboard ship</td>\n",
              "      <td>[]</td>\n",
              "      <td>0</td>\n",
              "      <td>[]</td>\n",
              "      <td>0</td>\n",
              "    </tr>\n",
              "    <tr>\n",
              "      <th>2</th>\n",
              "      <td>misskpey awwww dnt dis brng bak memoriessss th...</td>\n",
              "      <td>0</td>\n",
              "      <td>12</td>\n",
              "      <td>54</td>\n",
              "      <td>4.500000</td>\n",
              "      <td>0</td>\n",
              "      <td>0</td>\n",
              "      <td>1</td>\n",
              "      <td>0</td>\n",
              "      <td>1</td>\n",
              "      <td>@misskpey awwww dnt dis brng bak memoriessss, ...</td>\n",
              "      <td>[]</td>\n",
              "      <td>0</td>\n",
              "      <td>[]</td>\n",
              "      <td>0</td>\n",
              "    </tr>\n",
              "    <tr>\n",
              "      <th>3</th>\n",
              "      <td>ughhh tired blahhhhhhhhh</td>\n",
              "      <td>0</td>\n",
              "      <td>6</td>\n",
              "      <td>27</td>\n",
              "      <td>4.500000</td>\n",
              "      <td>3</td>\n",
              "      <td>0</td>\n",
              "      <td>0</td>\n",
              "      <td>0</td>\n",
              "      <td>0</td>\n",
              "      <td>ughhh i am so tired  blahhhhhhhhh</td>\n",
              "      <td>[]</td>\n",
              "      <td>0</td>\n",
              "      <td>[]</td>\n",
              "      <td>0</td>\n",
              "    </tr>\n",
              "    <tr>\n",
              "      <th>4</th>\n",
              "      <td>mandagoforth bad funny zachary quinto reply sy...</td>\n",
              "      <td>0</td>\n",
              "      <td>26</td>\n",
              "      <td>116</td>\n",
              "      <td>4.461538</td>\n",
              "      <td>12</td>\n",
              "      <td>0</td>\n",
              "      <td>2</td>\n",
              "      <td>0</td>\n",
              "      <td>0</td>\n",
              "      <td>@mandagoforth me bad! it's funny though. zacha...</td>\n",
              "      <td>[]</td>\n",
              "      <td>0</td>\n",
              "      <td>[]</td>\n",
              "      <td>0</td>\n",
              "    </tr>\n",
              "  </tbody>\n",
              "</table>\n",
              "</div>"
            ],
            "text/plain": [
              "                                              tweets  ...  url_count\n",
              "0                       bored watch movie suggestion  ...          0\n",
              "1                            miami wait unboard ship  ...          0\n",
              "2  misskpey awwww dnt dis brng bak memoriessss th...  ...          0\n",
              "3                           ughhh tired blahhhhhhhhh  ...          0\n",
              "4  mandagoforth bad funny zachary quinto reply sy...  ...          0\n",
              "\n",
              "[5 rows x 15 columns]"
            ]
          },
          "metadata": {},
          "execution_count": 293
        }
      ]
    },
    {
      "cell_type": "code",
      "metadata": {
        "colab": {
          "base_uri": "https://localhost:8080/",
          "height": 237
        },
        "id": "fE1s2_cMCmTe",
        "outputId": "973868ae-7603-41ea-952b-013fa661c6d9"
      },
      "source": [
        "from wordcloud import WordCloud\n",
        "import matplotlib.pyplot as plt\n",
        "wc=WordCloud(width=800,height=400).generate(''.join(data['tweets']))\n",
        "plt.imshow(wc)"
      ],
      "execution_count": 294,
      "outputs": [
        {
          "output_type": "execute_result",
          "data": {
            "text/plain": [
              "<matplotlib.image.AxesImage at 0x7f6c13be3390>"
            ]
          },
          "metadata": {},
          "execution_count": 294
        },
        {
          "output_type": "display_data",
          "data": {
            "image/png": "[encoded data removed]",
            "text/plain": [
              "<Figure size 432x288 with 1 Axes>"
            ]
          },
          "metadata": {
            "needs_background": "light"
          }
        }
      ]
    },
    {
      "cell_type": "code",
      "metadata": {
        "id": "iWNUWTc6EE9d"
      },
      "source": [
        ""
      ],
      "execution_count": 294,
      "outputs": []
    }
  ]
}